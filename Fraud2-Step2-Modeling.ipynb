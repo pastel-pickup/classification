{
 "cells": [
  {
   "cell_type": "markdown",
   "id": "b556311b",
   "metadata": {},
   "source": [
    "# Baseline Model - Logistic Regression with F1 score as metric"
   ]
  },
  {
   "cell_type": "code",
   "execution_count": 1,
   "id": "7cab21bb",
   "metadata": {},
   "outputs": [],
   "source": [
    "# importing libraries\n",
    "import pandas as pd\n",
    "import numpy as np\n",
    "import matplotlib.pyplot as plt\n",
    "import statistics as stat\n",
    "import datetime as dt\n",
    "import seaborn as sns\n",
    "sns.set()\n",
    "\n",
    "from sklearn.preprocessing import StandardScaler, MinMaxScaler\n",
    "from sklearn.linear_model import LogisticRegression\n",
    "from sklearn.model_selection import train_test_split, cross_val_score, StratifiedKFold, GridSearchCV\n",
    "from sklearn.metrics import f1_score, precision_score, recall_score, confusion_matrix, classification_report\n",
    "\n",
    "from sklearn.utils import class_weight"
   ]
  },
  {
   "cell_type": "code",
   "execution_count": 2,
   "id": "1d224349",
   "metadata": {},
   "outputs": [],
   "source": [
    "# importing model-ready data\n",
    "\n",
    "df = pd.read_csv(\"C:/Users/New User/Desktop/Fraud/data/data2_model_ready_2.csv\")"
   ]
  },
  {
   "cell_type": "code",
   "execution_count": 3,
   "id": "9858181b",
   "metadata": {},
   "outputs": [
    {
     "name": "stdout",
     "output_type": "stream",
     "text": [
      "<class 'pandas.core.frame.DataFrame'>\n",
      "RangeIndex: 10000 entries, 0 to 9999\n",
      "Data columns (total 20 columns):\n",
      " #   Column                   Non-Null Count  Dtype  \n",
      "---  ------                   --------------  -----  \n",
      " 0   Unnamed: 0               10000 non-null  int64  \n",
      " 1   Unnamed: 0.1             10000 non-null  int64  \n",
      " 2   amt                      10000 non-null  float64\n",
      " 3   city_pop                 10000 non-null  int64  \n",
      " 4   is_fraud                 10000 non-null  int64  \n",
      " 5   trans_year               10000 non-null  int64  \n",
      " 6   trans_month              10000 non-null  int64  \n",
      " 7   trans_day                10000 non-null  int64  \n",
      " 8   category_gas_transport   10000 non-null  int64  \n",
      " 9   category_home            10000 non-null  int64  \n",
      " 10  category_grocery_pos     10000 non-null  int64  \n",
      " 11  category_kids_pets       10000 non-null  int64  \n",
      " 12  category_shopping_pos    10000 non-null  int64  \n",
      " 13  category_shopping_net    10000 non-null  int64  \n",
      " 14  category_entertainment   10000 non-null  int64  \n",
      " 15  category_food_dining     10000 non-null  int64  \n",
      " 16  category_health_fitness  10000 non-null  int64  \n",
      " 17  category_personal_care   10000 non-null  int64  \n",
      " 18  category_misc_pos        10000 non-null  int64  \n",
      " 19  category_misc_net        10000 non-null  int64  \n",
      "dtypes: float64(1), int64(19)\n",
      "memory usage: 1.5 MB\n"
     ]
    }
   ],
   "source": [
    "df.info()"
   ]
  },
  {
   "cell_type": "markdown",
   "id": "40da13b8",
   "metadata": {},
   "source": [
    "# Splitting into X features and y target dataframes"
   ]
  },
  {
   "cell_type": "code",
   "execution_count": 4,
   "id": "f1742a1b",
   "metadata": {},
   "outputs": [
    {
     "data": {
      "text/plain": [
       "19"
      ]
     },
     "execution_count": 4,
     "metadata": {},
     "output_type": "execute_result"
    }
   ],
   "source": [
    "orig_feats = [col for col in df.columns if 'is_fraud' not in col]\n",
    "\n",
    "len(orig_feats)"
   ]
  },
  {
   "cell_type": "code",
   "execution_count": 5,
   "id": "6897d8cf",
   "metadata": {},
   "outputs": [],
   "source": [
    "X = df[orig_feats]\n",
    "y = df['is_fraud']\n",
    "y=y.astype('int')"
   ]
  },
  {
   "cell_type": "markdown",
   "id": "6365bb11",
   "metadata": {},
   "source": [
    "# Using stratified sampling during split-train-test for data consistency"
   ]
  },
  {
   "cell_type": "code",
   "execution_count": 6,
   "id": "7c2b7a44",
   "metadata": {},
   "outputs": [
    {
     "name": "stdout",
     "output_type": "stream",
     "text": [
      "(7500, 19) (2500, 19) (7500,) (2500,)\n"
     ]
    }
   ],
   "source": [
    "# Use stratify to ensure samples of fraud label are in the test set\n",
    "X_train, X_test, y_train, y_test = train_test_split(X, y, shuffle=True, stratify=y, random_state=1)\n",
    "\n",
    "print(X_train.shape, X_test.shape, y_train.shape, y_test.shape)"
   ]
  },
  {
   "cell_type": "markdown",
   "id": "3b4f4d8d",
   "metadata": {},
   "source": [
    "# Modeling straight-out-of-sample with inherent class imbalance problem with f1 score for test data being 0.0"
   ]
  },
  {
   "cell_type": "code",
   "execution_count": 10,
   "id": "b1c57ab6",
   "metadata": {},
   "outputs": [
    {
     "name": "stdout",
     "output_type": "stream",
     "text": [
      "              precision    recall  f1-score   support\n",
      "\n",
      "           0       0.99      1.00      1.00      2485\n",
      "           1       0.00      0.00      0.00        15\n",
      "\n",
      "    accuracy                           0.99      2500\n",
      "   macro avg       0.50      0.50      0.50      2500\n",
      "weighted avg       0.99      0.99      0.99      2500\n",
      "\n",
      "The f1 score for the testing data: 0.0\n"
     ]
    },
    {
     "name": "stderr",
     "output_type": "stream",
     "text": [
      "C:\\Users\\New User\\anaconda3\\lib\\site-packages\\sklearn\\utils\\optimize.py:210: ConvergenceWarning: newton-cg failed to converge. Increase the number of iterations.\n",
      "  warnings.warn(\n"
     ]
    },
    {
     "data": {
      "image/png": "[encoded data removed]",
      "text/plain": [
       "<Figure size 432x432 with 1 Axes>"
      ]
     },
     "metadata": {},
     "output_type": "display_data"
    }
   ],
   "source": [
    "from sklearn.linear_model import LogisticRegression\n",
    "lr = LogisticRegression(solver='newton-cg')\n",
    "lr.fit(X_train, y_train)\n",
    "\n",
    "#Test data prediction\n",
    "pred_test = lr.predict(X_test)\n",
    "\n",
    "#Classification Report\n",
    "\n",
    "print(classification_report(y_test, pred_test))\n",
    "\n",
    "#Calculate and print the F1 score\n",
    "f1_test = f1_score(y_test, pred_test)\n",
    "print('The f1 score for the testing data:', f1_test)\n",
    "\n",
    "#Function to create confusion matrix\n",
    "def conf_matrix(y_test, pred_test):    \n",
    "    \n",
    "    #Create confusion matrix\n",
    "    con_mat = confusion_matrix(y_test, pred_test)\n",
    "    con_mat = pd.DataFrame(con_mat, range(2), range(2))\n",
    "   \n",
    "    plt.figure(figsize=(6,6))\n",
    "    sns.set(font_scale=1.5) \n",
    "    sns.heatmap(con_mat, annot=True, annot_kws={\"size\": 16}, fmt='g', cmap='Blues', cbar=False)\n",
    "    \n",
    "#Call function\n",
    "conf_matrix(y_test, pred_test)"
   ]
  },
  {
   "cell_type": "markdown",
   "id": "aa0a06c7",
   "metadata": {},
   "source": [
    "# Modeling straight-out-of-sample with inherent class imbalance problem with class_weight='balanced' in LogisticRegression function yielding f1 score for test data of 0.06"
   ]
  },
  {
   "cell_type": "code",
   "execution_count": 80,
   "id": "44a92a17",
   "metadata": {},
   "outputs": [
    {
     "name": "stdout",
     "output_type": "stream",
     "text": [
      "The f1 score for the testing data: 0.06521739130434782\n"
     ]
    },
    {
     "name": "stderr",
     "output_type": "stream",
     "text": [
      "C:\\Users\\New User\\anaconda3\\lib\\site-packages\\sklearn\\utils\\optimize.py:210: ConvergenceWarning: newton-cg failed to converge. Increase the number of iterations.\n",
      "  warnings.warn(\n"
     ]
    },
    {
     "data": {
      "image/png": "[encoded data removed]",
      "text/plain": [
       "<Figure size 432x432 with 1 Axes>"
      ]
     },
     "metadata": {},
     "output_type": "display_data"
    }
   ],
   "source": [
    "#Import and training model\n",
    "from sklearn.linear_model import LogisticRegression\n",
    "lr = LogisticRegression(solver='newton-cg', class_weight='balanced')\n",
    "lr.fit(X_train, y_train)\n",
    "\n",
    "#Test data prediction\n",
    "pred_test = lr.predict(X_test)\n",
    "\n",
    "#Calculate and print the F1 score\n",
    "f1_test = f1_score(y_test, pred_test)\n",
    "print('The f1 score for the testing data:', f1_test)\n",
    "\n",
    "#Function to create confusion matrix\n",
    "def conf_matrix(y_test, pred_test):    \n",
    "    \n",
    "    #Create confusion matrix\n",
    "    con_mat = confusion_matrix(y_test, pred_test)\n",
    "    con_mat = pd.DataFrame(con_mat, range(2), range(2))\n",
    "   \n",
    "    plt.figure(figsize=(6,6))\n",
    "    sns.set(font_scale=1.5) \n",
    "    sns.heatmap(con_mat, annot=True, annot_kws={\"size\": 16}, fmt='g', cmap='Blues', cbar=False)\n",
    "    \n",
    "#Call function\n",
    "conf_matrix(y_test, pred_test)"
   ]
  },
  {
   "cell_type": "markdown",
   "id": "34e2f0db",
   "metadata": {},
   "source": [
    "# Using GridSearchCV to find optimal hyperparameters ('penalty', 'C', 'solver', 'max_iter') for LogisticRegression function with the following results:\n",
    "# Best params:  {'C': 0.0001, 'max_iter': 100, 'penalty': 'l1', 'solver': 'liblinear'}\n",
    "# Best estimator:  LogisticRegression(C=0.0001, penalty='l1', solver='liblinear')\n",
    "# Best score:  0.0 (f1 score)"
   ]
  },
  {
   "cell_type": "code",
   "execution_count": 81,
   "id": "fc2d3f5c",
   "metadata": {},
   "outputs": [
    {
     "name": "stdout",
     "output_type": "stream",
     "text": [
      "Fitting 3 folds for each of 540 candidates, totalling 1620 fits\n"
     ]
    },
    {
     "name": "stderr",
     "output_type": "stream",
     "text": [
      "C:\\Users\\New User\\anaconda3\\lib\\site-packages\\sklearn\\model_selection\\_validation.py:372: FitFailedWarning: \n",
      "540 fits failed out of a total of 1620.\n",
      "The score on these train-test partitions for these parameters will be set to nan.\n",
      "If these failures are not expected, you can try to debug them by setting error_score='raise'.\n",
      "\n",
      "Below are more details about the failures:\n",
      "--------------------------------------------------------------------------------\n",
      "180 fits failed with the following error:\n",
      "Traceback (most recent call last):\n",
      "  File \"C:\\Users\\New User\\anaconda3\\lib\\site-packages\\sklearn\\model_selection\\_validation.py\", line 681, in _fit_and_score\n",
      "    estimator.fit(X_train, y_train, **fit_params)\n",
      "  File \"C:\\Users\\New User\\anaconda3\\lib\\site-packages\\sklearn\\linear_model\\_logistic.py\", line 1461, in fit\n",
      "    solver = _check_solver(self.solver, self.penalty, self.dual)\n",
      "  File \"C:\\Users\\New User\\anaconda3\\lib\\site-packages\\sklearn\\linear_model\\_logistic.py\", line 447, in _check_solver\n",
      "    raise ValueError(\n",
      "ValueError: Solver lbfgs supports only 'l2' or 'none' penalties, got l1 penalty.\n",
      "\n",
      "--------------------------------------------------------------------------------\n",
      "180 fits failed with the following error:\n",
      "Traceback (most recent call last):\n",
      "  File \"C:\\Users\\New User\\anaconda3\\lib\\site-packages\\sklearn\\model_selection\\_validation.py\", line 681, in _fit_and_score\n",
      "    estimator.fit(X_train, y_train, **fit_params)\n",
      "  File \"C:\\Users\\New User\\anaconda3\\lib\\site-packages\\sklearn\\linear_model\\_logistic.py\", line 1461, in fit\n",
      "    solver = _check_solver(self.solver, self.penalty, self.dual)\n",
      "  File \"C:\\Users\\New User\\anaconda3\\lib\\site-packages\\sklearn\\linear_model\\_logistic.py\", line 447, in _check_solver\n",
      "    raise ValueError(\n",
      "ValueError: Solver newton-cg supports only 'l2' or 'none' penalties, got l1 penalty.\n",
      "\n",
      "--------------------------------------------------------------------------------\n",
      "180 fits failed with the following error:\n",
      "Traceback (most recent call last):\n",
      "  File \"C:\\Users\\New User\\anaconda3\\lib\\site-packages\\sklearn\\model_selection\\_validation.py\", line 681, in _fit_and_score\n",
      "    estimator.fit(X_train, y_train, **fit_params)\n",
      "  File \"C:\\Users\\New User\\anaconda3\\lib\\site-packages\\sklearn\\linear_model\\_logistic.py\", line 1461, in fit\n",
      "    solver = _check_solver(self.solver, self.penalty, self.dual)\n",
      "  File \"C:\\Users\\New User\\anaconda3\\lib\\site-packages\\sklearn\\linear_model\\_logistic.py\", line 464, in _check_solver\n",
      "    raise ValueError(\"penalty='none' is not supported for the liblinear solver\")\n",
      "ValueError: penalty='none' is not supported for the liblinear solver\n",
      "\n",
      "  warnings.warn(some_fits_failed_message, FitFailedWarning)\n",
      "C:\\Users\\New User\\anaconda3\\lib\\site-packages\\sklearn\\model_selection\\_search.py:969: UserWarning: One or more of the test scores are non-finite: [nan nan  0.  0.  0.  0.  0.  0. nan nan nan  0.  0.  0.  0.  0.  0. nan\n",
      " nan nan  0.  0.  0.  0.  0.  0. nan nan nan  0.  0.  0.  0.  0.  0. nan\n",
      " nan nan  0.  0.  0.  0.  0.  0. nan nan nan  0.  0.  0.  0.  0.  0. nan\n",
      " nan nan  0.  0.  0.  0.  0.  0. nan nan nan  0.  0.  0.  0.  0.  0. nan\n",
      " nan nan  0.  0.  0.  0.  0.  0. nan nan nan  0.  0.  0.  0.  0.  0. nan\n",
      " nan nan  0.  0.  0.  0.  0.  0. nan nan nan  0.  0.  0.  0.  0.  0. nan\n",
      " nan nan  0.  0.  0.  0.  0.  0. nan nan nan  0.  0.  0.  0.  0.  0. nan\n",
      " nan nan  0.  0.  0.  0.  0.  0. nan nan nan  0.  0.  0.  0.  0.  0. nan\n",
      " nan nan  0.  0.  0.  0.  0.  0. nan nan nan  0.  0.  0.  0.  0.  0. nan\n",
      " nan nan  0.  0.  0.  0.  0.  0. nan nan nan  0.  0.  0.  0.  0.  0. nan\n",
      " nan nan  0.  0.  0.  0.  0.  0. nan nan nan  0.  0.  0.  0.  0.  0. nan\n",
      " nan nan  0.  0.  0.  0.  0.  0. nan nan nan  0.  0.  0.  0.  0.  0. nan\n",
      " nan nan  0.  0.  0.  0.  0.  0. nan nan nan  0.  0.  0.  0.  0.  0. nan\n",
      " nan nan  0.  0.  0.  0.  0.  0. nan nan nan  0.  0.  0.  0.  0.  0. nan\n",
      " nan nan  0.  0.  0.  0.  0.  0. nan nan nan  0.  0.  0.  0.  0.  0. nan\n",
      " nan nan  0.  0.  0.  0.  0.  0. nan nan nan  0.  0.  0.  0.  0.  0. nan\n",
      " nan nan  0.  0.  0.  0.  0.  0. nan nan nan  0.  0.  0.  0.  0.  0. nan\n",
      " nan nan  0.  0.  0.  0.  0.  0. nan nan nan  0.  0.  0.  0.  0.  0. nan\n",
      " nan nan  0.  0.  0.  0.  0.  0. nan nan nan  0.  0.  0.  0.  0.  0. nan\n",
      " nan nan  0.  0.  0.  0.  0.  0. nan nan nan  0.  0.  0.  0.  0.  0. nan\n",
      " nan nan  0.  0.  0.  0.  0.  0. nan nan nan  0.  0.  0.  0.  0.  0. nan\n",
      " nan nan  0.  0.  0.  0.  0.  0. nan nan nan  0.  0.  0.  0.  0.  0. nan\n",
      " nan nan  0.  0.  0.  0.  0.  0. nan nan nan  0.  0.  0.  0.  0.  0. nan\n",
      " nan nan  0.  0.  0.  0.  0.  0. nan nan nan  0.  0.  0.  0.  0.  0. nan\n",
      " nan nan  0.  0.  0.  0.  0.  0. nan nan nan  0.  0.  0.  0.  0.  0. nan\n",
      " nan nan  0.  0.  0.  0.  0.  0. nan nan nan  0.  0.  0.  0.  0.  0. nan\n",
      " nan nan  0.  0.  0.  0.  0.  0. nan nan nan  0.  0.  0.  0.  0.  0. nan\n",
      " nan nan  0.  0.  0.  0.  0.  0. nan nan nan  0.  0.  0.  0.  0.  0. nan\n",
      " nan nan  0.  0.  0.  0.  0.  0. nan nan nan  0.  0.  0.  0.  0.  0. nan\n",
      " nan nan  0.  0.  0.  0.  0.  0. nan nan nan  0.  0.  0.  0.  0.  0. nan]\n",
      "  warnings.warn(\n"
     ]
    },
    {
     "data": {
      "text/plain": [
       "LogisticRegression(C=0.0001, penalty='l1', solver='liblinear')"
      ]
     },
     "execution_count": 81,
     "metadata": {},
     "output_type": "execute_result"
    }
   ],
   "source": [
    "from sklearn.linear_model import LogisticRegression\n",
    "from sklearn.model_selection import GridSearchCV\n",
    "logmodel= LogisticRegression()\n",
    "param_grid = {\n",
    "'penalty' : ['l1', 'l2', 'none'],\n",
    "'C' : np.logspace(-4, 4, 20),\n",
    "'solver' : ['lbfgs','newton-cg','liblinear'],\n",
    "'max_iter' : [100, 1000,2500]\n",
    "}\n",
    "logcls_us = GridSearchCV(logmodel, param_grid = param_grid, cv = 3, verbose=3, n_jobs=-1, scoring='f1')\n",
    "bestlogcls_us = logcls_us.fit(X_train, y_train)\n",
    "bestlogcls_us.best_estimator_"
   ]
  },
  {
   "cell_type": "code",
   "execution_count": 82,
   "id": "b61d9b53",
   "metadata": {},
   "outputs": [
    {
     "name": "stdout",
     "output_type": "stream",
     "text": [
      "Best params:  {'C': 0.0001, 'max_iter': 100, 'penalty': 'l1', 'solver': 'liblinear'}\n",
      "Best estimator:  LogisticRegression(C=0.0001, penalty='l1', solver='liblinear')\n",
      "Best score:  0.0\n"
     ]
    }
   ],
   "source": [
    "# examine the best model\n",
    "\n",
    "print(\"Best params: \", bestlogcls_us.best_params_)\n",
    "print(\"Best estimator: \", bestlogcls_us.best_estimator_)\n",
    "print(\"Best score: \", bestlogcls_us.best_score_)"
   ]
  },
  {
   "cell_type": "code",
   "execution_count": 16,
   "id": "6db6b08e",
   "metadata": {},
   "outputs": [],
   "source": [
    "# BEST PARAMETERS SO FAR\n",
    "\n",
    "# Best params:  {'C': 0.0001, 'max_iter': 100, 'penalty': 'l1', 'solver': 'liblinear'}\n",
    "# Best estimator:  LogisticRegression(C=0.0001, penalty='l1', solver='liblinear')\n",
    "# Best score:  0.0"
   ]
  },
  {
   "cell_type": "markdown",
   "id": "f337029f",
   "metadata": {},
   "source": [
    "# Re-train model with best hyperparameters found above yielding f1 score of 0.18 for test data. A slight improvement from 0.06 above."
   ]
  },
  {
   "cell_type": "code",
   "execution_count": 83,
   "id": "3133c9c2",
   "metadata": {},
   "outputs": [
    {
     "name": "stdout",
     "output_type": "stream",
     "text": [
      "The f1 score for the testing data: 0.18333333333333335\n"
     ]
    },
    {
     "data": {
      "image/png": "[encoded data removed]",
      "text/plain": [
       "<Figure size 432x432 with 1 Axes>"
      ]
     },
     "metadata": {},
     "output_type": "display_data"
    }
   ],
   "source": [
    "#Import and training model\n",
    "from sklearn.linear_model import LogisticRegression\n",
    "lr = LogisticRegression(solver='liblinear', class_weight='balanced', C=0.0001, penalty='l1')\n",
    "lr.fit(X_train, y_train)\n",
    "\n",
    "#Test data prediction\n",
    "pred_test = lr.predict(X_test)\n",
    "\n",
    "#Calculate and print the F1 score\n",
    "f1_test = f1_score(y_test, pred_test)\n",
    "print('The f1 score for the testing data:', f1_test)\n",
    "\n",
    "#Function to create confusion matrix\n",
    "def conf_matrix(y_test, pred_test):    \n",
    "    \n",
    "    #Create confusion matrix\n",
    "    con_mat = confusion_matrix(y_test, pred_test)\n",
    "    con_mat = pd.DataFrame(con_mat, range(2), range(2))\n",
    "   \n",
    "    plt.figure(figsize=(6,6))\n",
    "    sns.set(font_scale=1.5) \n",
    "    sns.heatmap(con_mat, annot=True, annot_kws={\"size\": 16}, fmt='g', cmap='Blues', cbar=False)\n",
    "    \n",
    "#Call function\n",
    "conf_matrix(y_test, pred_test)"
   ]
  },
  {
   "cell_type": "markdown",
   "id": "81c8929f",
   "metadata": {},
   "source": [
    "# Using RandomizedSearchCV to find best hyperparameters"
   ]
  },
  {
   "cell_type": "code",
   "execution_count": 44,
   "id": "b1030659",
   "metadata": {},
   "outputs": [],
   "source": [
    "# from sklearn.model_selection import RandomizedSearchCV, RepeatedStratifiedKFold\n",
    "# from scipy.stats import loguniform"
   ]
  },
  {
   "cell_type": "code",
   "execution_count": 45,
   "id": "9917b5b2",
   "metadata": {},
   "outputs": [],
   "source": [
    "# # define model\n",
    "# model = LogisticRegression()"
   ]
  },
  {
   "cell_type": "code",
   "execution_count": 46,
   "id": "3a482dae",
   "metadata": {},
   "outputs": [],
   "source": [
    "# # define evaluation\n",
    "# cv = RepeatedStratifiedKFold(n_splits=10, n_repeats=3, random_state=1)"
   ]
  },
  {
   "cell_type": "code",
   "execution_count": 47,
   "id": "d38940a8",
   "metadata": {},
   "outputs": [],
   "source": [
    "# # define search space\n",
    "# space = dict()\n",
    "# space['solver'] = ['newton-cg', 'lbfgs', 'liblinear']\n",
    "# space['penalty'] = ['none', 'l1', 'l2', 'elasticnet']\n",
    "# space['C'] = loguniform(1e-5, 100)"
   ]
  },
  {
   "cell_type": "code",
   "execution_count": 49,
   "id": "e6b9d31f",
   "metadata": {},
   "outputs": [],
   "source": [
    "# # define search\n",
    "# search = RandomizedSearchCV(model, space, n_iter=500, scoring='f1', n_jobs=-1, cv=cv, random_state=1)"
   ]
  },
  {
   "cell_type": "code",
   "execution_count": 50,
   "id": "82e2fda6",
   "metadata": {},
   "outputs": [
    {
     "name": "stderr",
     "output_type": "stream",
     "text": [
      "C:\\Users\\New User\\anaconda3\\lib\\site-packages\\sklearn\\model_selection\\_validation.py:372: FitFailedWarning: \n",
      "7080 fits failed out of a total of 15000.\n",
      "The score on these train-test partitions for these parameters will be set to nan.\n",
      "If these failures are not expected, you can try to debug them by setting error_score='raise'.\n",
      "\n",
      "Below are more details about the failures:\n",
      "--------------------------------------------------------------------------------\n",
      "1590 fits failed with the following error:\n",
      "Traceback (most recent call last):\n",
      "  File \"C:\\Users\\New User\\anaconda3\\lib\\site-packages\\sklearn\\model_selection\\_validation.py\", line 681, in _fit_and_score\n",
      "    estimator.fit(X_train, y_train, **fit_params)\n",
      "  File \"C:\\Users\\New User\\anaconda3\\lib\\site-packages\\sklearn\\linear_model\\_logistic.py\", line 1461, in fit\n",
      "    solver = _check_solver(self.solver, self.penalty, self.dual)\n",
      "  File \"C:\\Users\\New User\\anaconda3\\lib\\site-packages\\sklearn\\linear_model\\_logistic.py\", line 447, in _check_solver\n",
      "    raise ValueError(\n",
      "ValueError: Solver lbfgs supports only 'l2' or 'none' penalties, got elasticnet penalty.\n",
      "\n",
      "--------------------------------------------------------------------------------\n",
      "1140 fits failed with the following error:\n",
      "Traceback (most recent call last):\n",
      "  File \"C:\\Users\\New User\\anaconda3\\lib\\site-packages\\sklearn\\model_selection\\_validation.py\", line 681, in _fit_and_score\n",
      "    estimator.fit(X_train, y_train, **fit_params)\n",
      "  File \"C:\\Users\\New User\\anaconda3\\lib\\site-packages\\sklearn\\linear_model\\_logistic.py\", line 1461, in fit\n",
      "    solver = _check_solver(self.solver, self.penalty, self.dual)\n",
      "  File \"C:\\Users\\New User\\anaconda3\\lib\\site-packages\\sklearn\\linear_model\\_logistic.py\", line 447, in _check_solver\n",
      "    raise ValueError(\n",
      "ValueError: Solver newton-cg supports only 'l2' or 'none' penalties, got l1 penalty.\n",
      "\n",
      "--------------------------------------------------------------------------------\n",
      "960 fits failed with the following error:\n",
      "Traceback (most recent call last):\n",
      "  File \"C:\\Users\\New User\\anaconda3\\lib\\site-packages\\sklearn\\model_selection\\_validation.py\", line 681, in _fit_and_score\n",
      "    estimator.fit(X_train, y_train, **fit_params)\n",
      "  File \"C:\\Users\\New User\\anaconda3\\lib\\site-packages\\sklearn\\linear_model\\_logistic.py\", line 1461, in fit\n",
      "    solver = _check_solver(self.solver, self.penalty, self.dual)\n",
      "  File \"C:\\Users\\New User\\anaconda3\\lib\\site-packages\\sklearn\\linear_model\\_logistic.py\", line 447, in _check_solver\n",
      "    raise ValueError(\n",
      "ValueError: Solver lbfgs supports only 'l2' or 'none' penalties, got l1 penalty.\n",
      "\n",
      "--------------------------------------------------------------------------------\n",
      "1230 fits failed with the following error:\n",
      "Traceback (most recent call last):\n",
      "  File \"C:\\Users\\New User\\anaconda3\\lib\\site-packages\\sklearn\\model_selection\\_validation.py\", line 681, in _fit_and_score\n",
      "    estimator.fit(X_train, y_train, **fit_params)\n",
      "  File \"C:\\Users\\New User\\anaconda3\\lib\\site-packages\\sklearn\\linear_model\\_logistic.py\", line 1461, in fit\n",
      "    solver = _check_solver(self.solver, self.penalty, self.dual)\n",
      "  File \"C:\\Users\\New User\\anaconda3\\lib\\site-packages\\sklearn\\linear_model\\_logistic.py\", line 464, in _check_solver\n",
      "    raise ValueError(\"penalty='none' is not supported for the liblinear solver\")\n",
      "ValueError: penalty='none' is not supported for the liblinear solver\n",
      "\n",
      "--------------------------------------------------------------------------------\n",
      "1110 fits failed with the following error:\n",
      "Traceback (most recent call last):\n",
      "  File \"C:\\Users\\New User\\anaconda3\\lib\\site-packages\\sklearn\\model_selection\\_validation.py\", line 681, in _fit_and_score\n",
      "    estimator.fit(X_train, y_train, **fit_params)\n",
      "  File \"C:\\Users\\New User\\anaconda3\\lib\\site-packages\\sklearn\\linear_model\\_logistic.py\", line 1461, in fit\n",
      "    solver = _check_solver(self.solver, self.penalty, self.dual)\n",
      "  File \"C:\\Users\\New User\\anaconda3\\lib\\site-packages\\sklearn\\linear_model\\_logistic.py\", line 457, in _check_solver\n",
      "    raise ValueError(\n",
      "ValueError: Only 'saga' solver supports elasticnet penalty, got solver=liblinear.\n",
      "\n",
      "--------------------------------------------------------------------------------\n",
      "1050 fits failed with the following error:\n",
      "Traceback (most recent call last):\n",
      "  File \"C:\\Users\\New User\\anaconda3\\lib\\site-packages\\sklearn\\model_selection\\_validation.py\", line 681, in _fit_and_score\n",
      "    estimator.fit(X_train, y_train, **fit_params)\n",
      "  File \"C:\\Users\\New User\\anaconda3\\lib\\site-packages\\sklearn\\linear_model\\_logistic.py\", line 1461, in fit\n",
      "    solver = _check_solver(self.solver, self.penalty, self.dual)\n",
      "  File \"C:\\Users\\New User\\anaconda3\\lib\\site-packages\\sklearn\\linear_model\\_logistic.py\", line 447, in _check_solver\n",
      "    raise ValueError(\n",
      "ValueError: Solver newton-cg supports only 'l2' or 'none' penalties, got elasticnet penalty.\n",
      "\n",
      "  warnings.warn(some_fits_failed_message, FitFailedWarning)\n",
      "C:\\Users\\New User\\anaconda3\\lib\\site-packages\\sklearn\\model_selection\\_search.py:969: UserWarning: One or more of the test scores are non-finite: [ 0. nan  0. nan  0.  0.  0.  0. nan nan nan nan  0. nan  0. nan nan  0.\n",
      "  0. nan  0.  0.  0.  0.  0. nan  0. nan  0.  0.  0. nan  0. nan  0.  0.\n",
      " nan  0.  0. nan  0.  0.  0.  0. nan  0. nan nan nan nan nan  0. nan  0.\n",
      " nan  0. nan nan nan nan  0. nan  0.  0. nan  0. nan  0.  0.  0. nan nan\n",
      " nan nan  0.  0. nan  0.  0.  0. nan  0.  0. nan  0. nan  0.  0. nan nan\n",
      "  0. nan nan  0. nan nan nan nan  0. nan nan nan nan  0.  0. nan  0. nan\n",
      "  0.  0. nan nan  0. nan  0.  0.  0. nan nan  0.  0.  0.  0. nan  0.  0.\n",
      " nan nan  0. nan  0.  0.  0.  0.  0.  0. nan  0.  0. nan  0. nan  0. nan\n",
      "  0.  0.  0.  0.  0. nan  0.  0.  0.  0. nan nan nan nan  0.  0.  0. nan\n",
      " nan nan nan  0. nan nan  0.  0.  0. nan nan  0.  0. nan nan  0. nan  0.\n",
      "  0. nan  0. nan  0.  0.  0. nan nan nan  0.  0.  0.  0.  0.  0. nan nan\n",
      "  0. nan nan  0.  0.  0. nan nan nan  0.  0.  0. nan  0.  0. nan nan  0.\n",
      "  0. nan nan nan  0. nan  0. nan nan nan  0.  0.  0. nan  0.  0. nan nan\n",
      "  0.  0.  0.  0. nan nan nan  0.  0. nan  0. nan  0.  0. nan nan nan  0.\n",
      "  0. nan nan  0. nan  0. nan  0. nan  0.  0.  0.  0. nan  0.  0. nan  0.\n",
      "  0. nan  0. nan nan  0. nan nan  0.  0.  0. nan  0. nan  0.  0. nan  0.\n",
      " nan nan  0.  0. nan nan nan  0. nan  0.  0. nan nan  0. nan nan nan  0.\n",
      "  0. nan  0.  0. nan  0. nan  0. nan  0.  0.  0. nan nan  0.  0. nan  0.\n",
      " nan  0.  0.  0.  0.  0. nan  0. nan  0.  0.  0.  0.  0.  0. nan nan  0.\n",
      "  0. nan nan nan  0. nan  0. nan nan nan  0.  0.  0.  0. nan  0.  0.  0.\n",
      " nan nan  0.  0.  0.  0. nan  0.  0.  0. nan  0.  0.  0.  0. nan  0. nan\n",
      " nan nan nan nan nan  0. nan  0. nan nan  0. nan nan nan nan  0. nan  0.\n",
      "  0.  0.  0. nan nan  0.  0.  0.  0.  0. nan nan  0.  0.  0. nan nan nan\n",
      " nan  0.  0. nan  0.  0. nan nan  0. nan  0. nan nan  0. nan nan nan nan\n",
      "  0. nan nan nan nan nan nan  0.  0.  0. nan  0.  0.  0. nan  0.  0. nan\n",
      " nan  0.  0. nan nan  0. nan nan  0. nan  0. nan nan  0. nan nan nan  0.\n",
      "  0.  0. nan nan nan nan nan  0.  0. nan  0. nan  0. nan nan  0. nan nan\n",
      " nan nan  0. nan  0.  0.  0. nan  0. nan  0. nan  0. nan]\n",
      "  warnings.warn(\n",
      "C:\\Users\\New User\\anaconda3\\lib\\site-packages\\sklearn\\linear_model\\_logistic.py:1483: UserWarning: Setting penalty='none' will ignore the C and l1_ratio parameters\n",
      "  warnings.warn(\n"
     ]
    },
    {
     "name": "stdout",
     "output_type": "stream",
     "text": [
      "Best Score: 0.0\n",
      "Best Hyperparameters: {'C': 0.008301451461243866, 'penalty': 'none', 'solver': 'newton-cg'}\n"
     ]
    },
    {
     "name": "stderr",
     "output_type": "stream",
     "text": [
      "C:\\Users\\New User\\anaconda3\\lib\\site-packages\\sklearn\\utils\\optimize.py:210: ConvergenceWarning: newton-cg failed to converge. Increase the number of iterations.\n",
      "  warnings.warn(\n"
     ]
    }
   ],
   "source": [
    "# # execute search\n",
    "# result = search.fit(X, y)\n",
    "# # summarize result\n",
    "# print('Best Score: %s' % result.best_score_)\n",
    "# print('Best Hyperparameters: %s' % result.best_params_)"
   ]
  },
  {
   "cell_type": "code",
   "execution_count": null,
   "id": "f1e9b5ec",
   "metadata": {},
   "outputs": [],
   "source": [
    "# Best Score: 0.0\n",
    "# Best Hyperparameters: {'C': 0.008301451461243866, 'penalty': 'none', 'solver': 'newton-cg'}"
   ]
  },
  {
   "cell_type": "markdown",
   "id": "e666dcbc",
   "metadata": {},
   "source": [
    "# Finding optimal class weights using a manual method and GridSearchCV yielding best f1 score: 0.415851 using {'class_weight': {0: 1, 1: 10}}"
   ]
  },
  {
   "cell_type": "code",
   "execution_count": 84,
   "id": "35b54827",
   "metadata": {},
   "outputs": [
    {
     "name": "stdout",
     "output_type": "stream",
     "text": [
      "Best: 0.415851 using {'class_weight': {0: 1, 1: 10}}\n",
      "0.000000 (0.000000) with: {'class_weight': {0: 100, 1: 1}}\n",
      "0.000000 (0.000000) with: {'class_weight': {0: 10, 1: 1}}\n",
      "0.000000 (0.000000) with: {'class_weight': {0: 1, 1: 1}}\n",
      "0.415851 (0.085923) with: {'class_weight': {0: 1, 1: 10}}\n",
      "0.254854 (0.041452) with: {'class_weight': {0: 1, 1: 100}}\n"
     ]
    }
   ],
   "source": [
    "lr = LogisticRegression(solver='liblinear', C=0.0001, penalty='l1')\n",
    "\n",
    "# define grid\n",
    "balance = [{0:100,1:1}, {0:10,1:1}, {0:1,1:1}, {0:1,1:10}, {0:1,1:100}]\n",
    "param_grid = dict(class_weight=balance)\n",
    "\n",
    "\n",
    "\n",
    "# define grid search\n",
    "grid = GridSearchCV(estimator=lr, param_grid=param_grid, n_jobs=-1, scoring='f1')\n",
    "\n",
    "grid_result = grid.fit(X_train, y_train)\n",
    "\n",
    "# report the best configuration\n",
    "print(\"Best: %f using %s\" % (grid_result.best_score_, grid_result.best_params_))\n",
    "# report all configurations\n",
    "means = grid_result.cv_results_['mean_test_score']\n",
    "stds = grid_result.cv_results_['std_test_score']\n",
    "params = grid_result.cv_results_['params']\n",
    "for mean, stdev, param in zip(means, stds, params):\n",
    "    print(\"%f (%f) with: %r\" % (mean, stdev, param))"
   ]
  },
  {
   "cell_type": "code",
   "execution_count": 85,
   "id": "7755ebe8",
   "metadata": {},
   "outputs": [
    {
     "name": "stdout",
     "output_type": "stream",
     "text": [
      "Best: 0.439329 using {'class_weight': {0: 1, 1: 12}}\n",
      "0.415851 (0.085923) with: {'class_weight': {0: 1, 1: 10}}\n",
      "0.428218 (0.086311) with: {'class_weight': {0: 1, 1: 11}}\n",
      "0.439329 (0.091126) with: {'class_weight': {0: 1, 1: 12}}\n",
      "0.439329 (0.091126) with: {'class_weight': {0: 1, 1: 13}}\n",
      "0.412291 (0.076650) with: {'class_weight': {0: 1, 1: 14}}\n"
     ]
    }
   ],
   "source": [
    "# Refining Search With Narrower Search Field\n",
    "lr = LogisticRegression(solver='liblinear', C=0.0001, penalty='l1')\n",
    "\n",
    "# define grid\n",
    "balance = [{0:1,1:10}, {0:1,1:11},{0:1,1:12}, {0:1,1:13}, {0:1,1:14}]\n",
    "param_grid = dict(class_weight=balance)\n",
    "\n",
    "\n",
    "\n",
    "# define grid search\n",
    "grid = GridSearchCV(estimator=lr, param_grid=param_grid, n_jobs=-1, scoring='f1')\n",
    "\n",
    "grid_result = grid.fit(X_train, y_train)\n",
    "\n",
    "# report the best configuration\n",
    "print(\"Best: %f using %s\" % (grid_result.best_score_, grid_result.best_params_))\n",
    "# report all configurations\n",
    "means = grid_result.cv_results_['mean_test_score']\n",
    "stds = grid_result.cv_results_['std_test_score']\n",
    "params = grid_result.cv_results_['params']\n",
    "for mean, stdev, param in zip(means, stds, params):\n",
    "    print(\"%f (%f) with: %r\" % (mean, stdev, param))"
   ]
  },
  {
   "cell_type": "code",
   "execution_count": null,
   "id": "2e31fb40",
   "metadata": {},
   "outputs": [],
   "source": [
    "# Best: 0.439329 using {'class_weight': {0: 1, 1: 12}}\n",
    "# 0.415851 (0.085923) with: {'class_weight': {0: 1, 1: 10}}\n",
    "# 0.428218 (0.086311) with: {'class_weight': {0: 1, 1: 11}}\n",
    "# 0.439329 (0.091126) with: {'class_weight': {0: 1, 1: 12}}\n",
    "# 0.439329 (0.091126) with: {'class_weight': {0: 1, 1: 13}}\n",
    "# 0.412291 (0.076650) with: {'class_weight': {0: 1, 1: 14}}"
   ]
  },
  {
   "cell_type": "code",
   "execution_count": 86,
   "id": "37c58d1d",
   "metadata": {},
   "outputs": [
    {
     "name": "stdout",
     "output_type": "stream",
     "text": [
      "Best: 0.439329 using {'class_weight': {0: 1, 1: 12.2}}\n",
      "0.439329 (0.091126) with: {'class_weight': {0: 1, 1: 12.2}}\n",
      "0.439329 (0.091126) with: {'class_weight': {0: 1, 1: 12.4}}\n",
      "0.439329 (0.091126) with: {'class_weight': {0: 1, 1: 12.6}}\n",
      "0.439329 (0.091126) with: {'class_weight': {0: 1, 1: 12.8}}\n",
      "0.439329 (0.091126) with: {'class_weight': {0: 1, 1: 13}}\n"
     ]
    }
   ],
   "source": [
    "# Refining Search With Narrower Search Field\n",
    "lr = LogisticRegression(solver='liblinear', C=0.0001, penalty='l1')\n",
    "\n",
    "# define grid\n",
    "balance = [{0:1,1:12.2}, {0:1,1:12.4},{0:1,1:12.6}, {0:1,1:12.8}, {0:1,1:13}]\n",
    "param_grid = dict(class_weight=balance)\n",
    "\n",
    "\n",
    "\n",
    "# define grid search\n",
    "grid = GridSearchCV(estimator=lr, param_grid=param_grid, n_jobs=-1, scoring='f1')\n",
    "\n",
    "grid_result = grid.fit(X_train, y_train)\n",
    "\n",
    "# report the best configuration\n",
    "print(\"Best: %f using %s\" % (grid_result.best_score_, grid_result.best_params_))\n",
    "# report all configurations\n",
    "means = grid_result.cv_results_['mean_test_score']\n",
    "stds = grid_result.cv_results_['std_test_score']\n",
    "params = grid_result.cv_results_['params']\n",
    "for mean, stdev, param in zip(means, stds, params):\n",
    "    print(\"%f (%f) with: %r\" % (mean, stdev, param))"
   ]
  },
  {
   "cell_type": "markdown",
   "id": "67deab69",
   "metadata": {},
   "source": [
    "# Re-train model using best hyperparameters and best class weights found above. The model yields f1 score of 0.47 for test data. A significant improvement from 0.18 of just using best function hyperparameters alone. "
   ]
  },
  {
   "cell_type": "code",
   "execution_count": 90,
   "id": "4b122d6d",
   "metadata": {},
   "outputs": [
    {
     "name": "stdout",
     "output_type": "stream",
     "text": [
      "The f1 score for the testing data: 0.47058823529411764\n"
     ]
    },
    {
     "data": {
      "image/png": "[encoded data removed]",
      "text/plain": [
       "<Figure size 432x432 with 1 Axes>"
      ]
     },
     "metadata": {},
     "output_type": "display_data"
    }
   ],
   "source": [
    "#Import and training model\n",
    "from sklearn.linear_model import LogisticRegression\n",
    "lr = LogisticRegression(solver='liblinear', class_weight={0: 1, 1: 10}, C=0.0001, penalty='l1')\n",
    "lr.fit(X_train, y_train)\n",
    "\n",
    "#Test data prediction\n",
    "pred_test = lr.predict(X_test)\n",
    "\n",
    "#Calculate and print the F1 score\n",
    "f1_test = f1_score(y_test, pred_test)\n",
    "print('The f1 score for the testing data:', f1_test)\n",
    "\n",
    "#Function to create confusion matrix\n",
    "def conf_matrix(y_test, pred_test):    \n",
    "    \n",
    "    #Create confusion matrix\n",
    "    con_mat = confusion_matrix(y_test, pred_test)\n",
    "    con_mat = pd.DataFrame(con_mat, range(2), range(2))\n",
    "   \n",
    "    plt.figure(figsize=(6,6))\n",
    "    sns.set(font_scale=1.5) \n",
    "    sns.heatmap(con_mat, annot=True, annot_kws={\"size\": 16}, fmt='g', cmap='Blues', cbar=False)\n",
    "    \n",
    "#Call function\n",
    "conf_matrix(y_test, pred_test)"
   ]
  },
  {
   "cell_type": "markdown",
   "id": "d517a619",
   "metadata": {},
   "source": [
    "# Scaling using both Standard and MinMaxScaler for X_train and X_test features and f1 score slightly improved to .48 with C increased from .0001 to C=10"
   ]
  },
  {
   "cell_type": "code",
   "execution_count": 58,
   "id": "1044347a",
   "metadata": {},
   "outputs": [],
   "source": [
    "# with Standarad scaling\n",
    "std_scale = StandardScaler()\n",
    "\n",
    "X_train_scaled = std_scale.fit_transform(X_train)\n",
    "X_test_scaled = std_scale.transform(X_test)"
   ]
  },
  {
   "cell_type": "code",
   "execution_count": 25,
   "id": "139a076a",
   "metadata": {},
   "outputs": [],
   "source": [
    "# with MinMaxScaler\n",
    "scaler = MinMaxScaler()  #A\n",
    "X_train_scaled_2 = scaler.fit_transform(X_train)   #B\n",
    "X_test_scaled_2 = scaler.transform(X_test)     #C"
   ]
  },
  {
   "cell_type": "code",
   "execution_count": 92,
   "id": "1a518184",
   "metadata": {},
   "outputs": [
    {
     "name": "stdout",
     "output_type": "stream",
     "text": [
      "The f1 score for the testing data: 0.4848484848484848\n"
     ]
    },
    {
     "data": {
      "image/png": "[encoded data removed]",
      "text/plain": [
       "<Figure size 432x432 with 1 Axes>"
      ]
     },
     "metadata": {},
     "output_type": "display_data"
    }
   ],
   "source": [
    "lr = LogisticRegression(solver='liblinear', class_weight={0: 1, 1: 10}, C=10, penalty='l1')\n",
    "lr.fit(X_train_scaled, y_train)\n",
    "\n",
    "#Test data prediction\n",
    "pred_test = lr.predict(X_test_scaled)\n",
    "\n",
    "#Calculate and print the F1 score\n",
    "f1_test = f1_score(y_test, pred_test)\n",
    "print('The f1 score for the testing data:', f1_test)\n",
    "\n",
    "#Function to create confusion matrix\n",
    "def conf_matrix(y_test, pred_test):    \n",
    "    \n",
    "    #Create confusion matrix\n",
    "    con_mat = confusion_matrix(y_test, pred_test)\n",
    "    con_mat = pd.DataFrame(con_mat, range(2), range(2))\n",
    "   \n",
    "    plt.figure(figsize=(6,6))\n",
    "    sns.set(font_scale=1.5) \n",
    "    sns.heatmap(con_mat, annot=True, annot_kws={\"size\": 16}, fmt='g', cmap='Blues', cbar=False)\n",
    "    \n",
    "#Call function\n",
    "conf_matrix(y_test, pred_test)"
   ]
  },
  {
   "cell_type": "markdown",
   "id": "75f9dd06",
   "metadata": {},
   "source": [
    "# Changing class boundary decision threshold to optimize F1 score"
   ]
  },
  {
   "cell_type": "code",
   "execution_count": 93,
   "id": "06389f80",
   "metadata": {},
   "outputs": [],
   "source": [
    "from sklearn.metrics import roc_curve, f1_score"
   ]
  },
  {
   "cell_type": "code",
   "execution_count": 159,
   "id": "81dfb3c8",
   "metadata": {},
   "outputs": [
    {
     "data": {
      "image/png": "[encoded data removed]",
      "text/plain": [
       "<Figure size 432x288 with 1 Axes>"
      ]
     },
     "metadata": {},
     "output_type": "display_data"
    }
   ],
   "source": [
    "lr = LogisticRegression(solver='liblinear', class_weight={0: 1, 1: 10}, C=10, penalty='l1')\n",
    "lr.fit(X_train, y_train)\n",
    "ytrain_pred_probas = lr.predict_proba(X_train)[:, 1]\n",
    "fpr, tpr, thresholds = roc_curve(y_train, ytrain_pred_probas)   # precision_recall_curve\n",
    "roc = pd.DataFrame({'FPR':fpr,'TPR':tpr,'Thresholds':thresholds})\n",
    "auc = roc_auc_score(y_test, y_pred_proba)\n",
    "\n",
    "#create ROC curve\n",
    "\n",
    "\n",
    "_ = plt.figure()\n",
    "# plt.plot(roc.FPR, roc.TPR)\n",
    "plt.plot(fpr,tpr,label=\"AUC=\"+str(auc))\n",
    "plt.axvline(0.2, color = '#00C851', linestyle = '--')\n",
    "plt.xlabel(\"FPR\")\n",
    "plt.ylabel(\"TPR\")\n",
    "plt.legend(loc=4)\n",
    "plt.show()"
   ]
  },
  {
   "cell_type": "code",
   "execution_count": 111,
   "id": "5b74e9bb",
   "metadata": {},
   "outputs": [
    {
     "name": "stdout",
     "output_type": "stream",
     "text": [
      "After change threshold to 0.2, the F1 score on Test data is:\n",
      "0.2608695652173913\n",
      "After change threshold to 0.2, the recall socre on Test data is:\n",
      "0.8\n",
      "\n",
      " After change threshold to 0.2, the precision socre on Test data is:\n",
      "0.15584415584415584\n",
      "\n",
      " After change threshold to 0.2, the Confusion Matrix on Test data is:\n",
      "[[2420   65]\n",
      " [   3   12]]\n"
     ]
    }
   ],
   "source": [
    "lr = LogisticRegression(solver='liblinear', class_weight={0: 1, 1: 10}, C=10, penalty='l1')\n",
    "lr.fit(X_train, y_train)\n",
    "ytest_pred_probas = lr.predict_proba(X_test)[:, 1]\n",
    "new_threshold = 0.1   # 0.5 is the default value\n",
    "ytest_pred = (ytest_pred_probas >= new_threshold).astype(int)\n",
    "\n",
    "print(\"After change threshold to 0.2, the F1 score on Test data is:\")\n",
    "print (f1_score(y_test, ytest_pred))\n",
    "print(\"After change threshold to 0.2, the recall socre on Test data is:\")\n",
    "print (recall_score(y_test, ytest_pred))\n",
    "print(\"\\n After change threshold to 0.2, the precision socre on Test data is:\")\n",
    "print (precision_score(y_test, ytest_pred))\n",
    "print(\"\\n After change threshold to 0.2, the Confusion Matrix on Test data is:\")\n",
    "print (confusion_matrix(y_test, ytest_pred))"
   ]
  },
  {
   "cell_type": "code",
   "execution_count": 112,
   "id": "adb7ad38",
   "metadata": {},
   "outputs": [
    {
     "name": "stdout",
     "output_type": "stream",
     "text": [
      "After change threshold to 0.2, the F1 score on Test data is:\n",
      "0.04848484848484849\n",
      "After change threshold to 0.2, the recall score on Test data is:\n",
      "0.8\n",
      "\n",
      " After change threshold to 0.2, the precision score on Test data is:\n",
      "0.025\n",
      "\n",
      " After change threshold to 0.2, the Confusion Matrix on Test data is:\n",
      "[[2017  468]\n",
      " [   3   12]]\n"
     ]
    }
   ],
   "source": [
    "lr = LogisticRegression(solver='liblinear', class_weight={0: 1, 1: 10}, C=10, penalty='l1')\n",
    "lr.fit(X_train, y_train)\n",
    "ytest_pred_probas = lr.predict_proba(X_test)[:, 1]\n",
    "new_threshold = 0.05   # 0.5 is the default value\n",
    "ytest_pred = (ytest_pred_probas >= new_threshold).astype(int)\n",
    "\n",
    "print(\"After change threshold to 0.2, the F1 score on Test data is:\")\n",
    "print (f1_score(y_test, ytest_pred))\n",
    "print(\"After change threshold to 0.2, the recall score on Test data is:\")\n",
    "print (recall_score(y_test, ytest_pred))\n",
    "print(\"\\n After change threshold to 0.2, the precision score on Test data is:\")\n",
    "print (precision_score(y_test, ytest_pred))\n",
    "print(\"\\n After change threshold to 0.2, the Confusion Matrix on Test data is:\")\n",
    "print (confusion_matrix(y_test, ytest_pred))"
   ]
  },
  {
   "cell_type": "code",
   "execution_count": 113,
   "id": "72cd4c6f",
   "metadata": {},
   "outputs": [
    {
     "name": "stdout",
     "output_type": "stream",
     "text": [
      "After change threshold to 0.2, the F1 score on Test data is:\n",
      "0.012556053811659194\n",
      "After change threshold to 0.2, the recall score on Test data is:\n",
      "0.9333333333333333\n",
      "\n",
      " After change threshold to 0.2, the precision score on Test data is:\n",
      "0.006320541760722348\n",
      "\n",
      " After change threshold to 0.2, the Confusion Matrix on Test data is:\n",
      "[[ 284 2201]\n",
      " [   1   14]]\n"
     ]
    }
   ],
   "source": [
    "lr = LogisticRegression(solver='liblinear', class_weight={0: 1, 1: 10}, C=10, penalty='l1')\n",
    "lr.fit(X_train, y_train)\n",
    "ytest_pred_probas = lr.predict_proba(X_test)[:, 1]\n",
    "new_threshold = 0.005   # 0.5 is the default value\n",
    "ytest_pred = (ytest_pred_probas >= new_threshold).astype(int)\n",
    "\n",
    "print(\"After change threshold to 0.2, the F1 score on Test data is:\")\n",
    "print (f1_score(y_test, ytest_pred))\n",
    "print(\"After change threshold to 0.2, the recall score on Test data is:\")\n",
    "print (recall_score(y_test, ytest_pred))\n",
    "print(\"\\n After change threshold to 0.2, the precision score on Test data is:\")\n",
    "print (precision_score(y_test, ytest_pred))\n",
    "print(\"\\n After change threshold to 0.2, the Confusion Matrix on Test data is:\")\n",
    "print (confusion_matrix(y_test, ytest_pred))"
   ]
  },
  {
   "cell_type": "code",
   "execution_count": 114,
   "id": "1fef6a39",
   "metadata": {},
   "outputs": [
    {
     "name": "stdout",
     "output_type": "stream",
     "text": [
      "After change threshold to 0.2, the F1 score on Test data is:\n",
      "0.015359297860669226\n",
      "After change threshold to 0.2, the recall score on Test data is:\n",
      "0.9333333333333333\n",
      "\n",
      " After change threshold to 0.2, the precision score on Test data is:\n",
      "0.007743362831858407\n",
      "\n",
      " After change threshold to 0.2, the Confusion Matrix on Test data is:\n",
      "[[ 691 1794]\n",
      " [   1   14]]\n"
     ]
    }
   ],
   "source": [
    "lr = LogisticRegression(solver='liblinear', class_weight={0: 1, 1: 10}, C=10, penalty='l1')\n",
    "lr.fit(X_train, y_train)\n",
    "ytest_pred_probas = lr.predict_proba(X_test)[:, 1]\n",
    "new_threshold = 0.01   # 0.5 is the default value\n",
    "ytest_pred = (ytest_pred_probas >= new_threshold).astype(int)\n",
    "\n",
    "print(\"After change threshold to 0.2, the F1 score on Test data is:\")\n",
    "print (f1_score(y_test, ytest_pred))\n",
    "print(\"After change threshold to 0.2, the recall score on Test data is:\")\n",
    "print (recall_score(y_test, ytest_pred))\n",
    "print(\"\\n After change threshold to 0.2, the precision score on Test data is:\")\n",
    "print (precision_score(y_test, ytest_pred))\n",
    "print(\"\\n After change threshold to 0.2, the Confusion Matrix on Test data is:\")\n",
    "print (confusion_matrix(y_test, ytest_pred))"
   ]
  },
  {
   "cell_type": "code",
   "execution_count": 118,
   "id": "a78b3942",
   "metadata": {},
   "outputs": [
    {
     "name": "stdout",
     "output_type": "stream",
     "text": [
      "After change threshold to 0.2, the F1 score on Test data is:\n",
      "0.4000000000000001\n",
      "After change threshold to 0.2, the recall score on Test data is:\n",
      "0.4\n",
      "\n",
      " After change threshold to 0.2, the precision score on Test data is:\n",
      "0.4\n",
      "\n",
      " After change threshold to 0.2, the Confusion Matrix on Test data is:\n",
      "[[2476    9]\n",
      " [   9    6]]\n"
     ]
    }
   ],
   "source": [
    "lr = LogisticRegression(solver='liblinear', class_weight={0: 1, 1: 10}, C=10, penalty='l1')\n",
    "lr.fit(X_train, y_train)\n",
    "ytest_pred_probas = lr.predict_proba(X_test)[:, 1]\n",
    "new_threshold = .7   # 0.5 is the default value\n",
    "ytest_pred = (ytest_pred_probas >= new_threshold).astype(int)\n",
    "\n",
    "print(\"After change threshold to 0.2, the F1 score on Test data is:\")\n",
    "print (f1_score(y_test, ytest_pred))\n",
    "print(\"After change threshold to 0.2, the recall score on Test data is:\")\n",
    "print (recall_score(y_test, ytest_pred))\n",
    "print(\"\\n After change threshold to 0.2, the precision score on Test data is:\")\n",
    "print (precision_score(y_test, ytest_pred))\n",
    "print(\"\\n After change threshold to 0.2, the Confusion Matrix on Test data is:\")\n",
    "print (confusion_matrix(y_test, ytest_pred))"
   ]
  },
  {
   "cell_type": "markdown",
   "id": "cab649ff",
   "metadata": {},
   "source": [
    "# Best Logistic Regression F1 score = 0.4848"
   ]
  },
  {
   "cell_type": "markdown",
   "id": "4638287c",
   "metadata": {},
   "source": [
    "# KNN MODELING"
   ]
  },
  {
   "cell_type": "code",
   "execution_count": 14,
   "id": "8d6e79d5",
   "metadata": {},
   "outputs": [],
   "source": [
    "from sklearn.neighbors import KNeighborsClassifier"
   ]
  },
  {
   "cell_type": "code",
   "execution_count": 30,
   "id": "14320d7b",
   "metadata": {},
   "outputs": [
    {
     "name": "stdout",
     "output_type": "stream",
     "text": [
      "              precision    recall  f1-score   support\n",
      "\n",
      "           0       0.99      1.00      1.00      2485\n",
      "           1       0.00      0.00      0.00        15\n",
      "\n",
      "    accuracy                           0.99      2500\n",
      "   macro avg       0.50      0.50      0.50      2500\n",
      "weighted avg       0.99      0.99      0.99      2500\n",
      "\n"
     ]
    },
    {
     "name": "stderr",
     "output_type": "stream",
     "text": [
      "C:\\Users\\New User\\anaconda3\\lib\\site-packages\\sklearn\\metrics\\_classification.py:1308: UndefinedMetricWarning: Precision and F-score are ill-defined and being set to 0.0 in labels with no predicted samples. Use `zero_division` parameter to control this behavior.\n",
      "  _warn_prf(average, modifier, msg_start, len(result))\n",
      "C:\\Users\\New User\\anaconda3\\lib\\site-packages\\sklearn\\metrics\\_classification.py:1308: UndefinedMetricWarning: Precision and F-score are ill-defined and being set to 0.0 in labels with no predicted samples. Use `zero_division` parameter to control this behavior.\n",
      "  _warn_prf(average, modifier, msg_start, len(result))\n",
      "C:\\Users\\New User\\anaconda3\\lib\\site-packages\\sklearn\\metrics\\_classification.py:1308: UndefinedMetricWarning: Precision and F-score are ill-defined and being set to 0.0 in labels with no predicted samples. Use `zero_division` parameter to control this behavior.\n",
      "  _warn_prf(average, modifier, msg_start, len(result))\n"
     ]
    }
   ],
   "source": [
    "knn = KNeighborsClassifier(n_neighbors=5)\n",
    "knn.fit(X_train, y_train)\n",
    "y_pred = knn.predict(X_test)\n",
    "\n",
    "print(classification_report(y_test, y_pred))"
   ]
  },
  {
   "cell_type": "markdown",
   "id": "7a5dff69",
   "metadata": {},
   "source": [
    "# Let's use Cross-Validation to find Optimal K"
   ]
  },
  {
   "cell_type": "code",
   "execution_count": 31,
   "id": "6bfc39f4",
   "metadata": {},
   "outputs": [
    {
     "name": "stdout",
     "output_type": "stream",
     "text": [
      "[0. 0. 0. 0. 0. 0. 0. 0. 0. 0.]\n"
     ]
    }
   ],
   "source": [
    "# 10-fold cross-validation with K=5 for KNN(the n_neighbors parameter)\n",
    "\n",
    "knn = KNeighborsClassifier(n_neighbors=5)\n",
    "scores = cross_val_score(knn, X_train, y_train, cv=10, scoring='f1')\n",
    "print(scores)"
   ]
  },
  {
   "cell_type": "code",
   "execution_count": 32,
   "id": "3cbca319",
   "metadata": {},
   "outputs": [
    {
     "name": "stdout",
     "output_type": "stream",
     "text": [
      "0.0\n"
     ]
    }
   ],
   "source": [
    "print(scores.mean())"
   ]
  },
  {
   "cell_type": "code",
   "execution_count": 33,
   "id": "6dd63484",
   "metadata": {},
   "outputs": [
    {
     "name": "stdout",
     "output_type": "stream",
     "text": [
      "[0.0757936507936508, 0.0, 0.0, 0.0, 0.0, 0.0, 0.0, 0.0, 0.0, 0.0, 0.0, 0.0, 0.0, 0.0, 0.0, 0.0, 0.0, 0.0, 0.0, 0.0, 0.0, 0.0, 0.0, 0.0, 0.0, 0.0, 0.0, 0.0, 0.0, 0.0]\n"
     ]
    }
   ],
   "source": [
    "# search for an optimal value of K for KNN\n",
    "\n",
    "k_range = list(range(1, 31))\n",
    "k_scores = []\n",
    "for k in k_range:\n",
    "    knn = KNeighborsClassifier(n_neighbors=k)\n",
    "    scores = cross_val_score(knn, X_train, y_train, cv=10, scoring='f1')\n",
    "    k_scores.append(scores.mean())\n",
    "print(k_scores)"
   ]
  },
  {
   "cell_type": "code",
   "execution_count": 35,
   "id": "74f376ff",
   "metadata": {},
   "outputs": [
    {
     "data": {
      "text/plain": [
       "Text(0, 0.5, 'Cross-Validated F1 Score')"
      ]
     },
     "execution_count": 35,
     "metadata": {},
     "output_type": "execute_result"
    },
    {
     "data": {
      "image/png": "[encoded data removed]",
      "text/plain": [
       "<Figure size 432x288 with 1 Axes>"
      ]
     },
     "metadata": {},
     "output_type": "display_data"
    }
   ],
   "source": [
    "# plot the value of K for KNN (x-axis) versus the cross-validated accuracy (y-axis)\n",
    "plt.plot(k_range, k_scores)\n",
    "plt.xlabel('Value of K for KNN')\n",
    "plt.ylabel('Cross-Validated F1 Score')"
   ]
  },
  {
   "cell_type": "code",
   "execution_count": 36,
   "id": "d9b017cc",
   "metadata": {},
   "outputs": [
    {
     "name": "stdout",
     "output_type": "stream",
     "text": [
      "              precision    recall  f1-score   support\n",
      "\n",
      "           0       0.99      1.00      1.00      2485\n",
      "           1       0.00      0.00      0.00        15\n",
      "\n",
      "    accuracy                           0.99      2500\n",
      "   macro avg       0.50      0.50      0.50      2500\n",
      "weighted avg       0.99      0.99      0.99      2500\n",
      "\n"
     ]
    }
   ],
   "source": [
    "# Let's retrain KNN model with k = 1\n",
    "\n",
    "knn = KNeighborsClassifier(n_neighbors=1)\n",
    "knn.fit(X_train, y_train)\n",
    "y_pred = knn.predict(X_test)\n",
    "\n",
    "print(classification_report(y_test, y_pred))"
   ]
  },
  {
   "cell_type": "markdown",
   "id": "0a571fde",
   "metadata": {},
   "source": [
    "# Let's use GridSearchCV to find optimal K"
   ]
  },
  {
   "cell_type": "code",
   "execution_count": 37,
   "id": "1b6fe653",
   "metadata": {},
   "outputs": [],
   "source": [
    "from sklearn.model_selection import GridSearchCV"
   ]
  },
  {
   "cell_type": "code",
   "execution_count": 38,
   "id": "a65d498c",
   "metadata": {},
   "outputs": [
    {
     "name": "stdout",
     "output_type": "stream",
     "text": [
      "[1, 2, 3, 4, 5, 6, 7, 8, 9, 10, 11, 12, 13, 14, 15, 16, 17, 18, 19, 20, 21, 22, 23, 24, 25, 26, 27, 28, 29, 30, 31, 32, 33, 34, 35, 36, 37, 38, 39, 40, 41, 42, 43, 44, 45, 46, 47, 48, 49, 50, 51, 52, 53, 54, 55, 56, 57, 58, 59, 60, 61, 62, 63, 64, 65, 66, 67, 68, 69, 70, 71, 72, 73, 74, 75, 76, 77, 78, 79, 80, 81, 82, 83, 84, 85, 86, 87, 88, 89, 90, 91, 92, 93, 94, 95, 96, 97, 98, 99]\n"
     ]
    }
   ],
   "source": [
    "# define the parameter values that should be searched\n",
    "\n",
    "k_range = list(range(1, 100))\n",
    "print(k_range)"
   ]
  },
  {
   "cell_type": "code",
   "execution_count": 39,
   "id": "51327713",
   "metadata": {},
   "outputs": [
    {
     "name": "stdout",
     "output_type": "stream",
     "text": [
      "{'n_neighbors': [1, 2, 3, 4, 5, 6, 7, 8, 9, 10, 11, 12, 13, 14, 15, 16, 17, 18, 19, 20, 21, 22, 23, 24, 25, 26, 27, 28, 29, 30, 31, 32, 33, 34, 35, 36, 37, 38, 39, 40, 41, 42, 43, 44, 45, 46, 47, 48, 49, 50, 51, 52, 53, 54, 55, 56, 57, 58, 59, 60, 61, 62, 63, 64, 65, 66, 67, 68, 69, 70, 71, 72, 73, 74, 75, 76, 77, 78, 79, 80, 81, 82, 83, 84, 85, 86, 87, 88, 89, 90, 91, 92, 93, 94, 95, 96, 97, 98, 99]}\n"
     ]
    }
   ],
   "source": [
    "# create a parameter grid: map the parameter names to the values that should be searched\n",
    "param_grid = dict(n_neighbors=k_range)\n",
    "print(param_grid)"
   ]
  },
  {
   "cell_type": "code",
   "execution_count": 40,
   "id": "42826e79",
   "metadata": {},
   "outputs": [],
   "source": [
    "# instantiate the grid\n",
    "grid = GridSearchCV(knn, param_grid, cv=10, scoring='f1')"
   ]
  },
  {
   "cell_type": "code",
   "execution_count": 41,
   "id": "daf7af43",
   "metadata": {},
   "outputs": [],
   "source": [
    "# fit the grid with data\n",
    "grid.fit(X_train, y_train);"
   ]
  },
  {
   "cell_type": "code",
   "execution_count": 42,
   "id": "95d54159",
   "metadata": {},
   "outputs": [
    {
     "data": {
      "text/plain": [
       "{'mean_fit_time': array([0.00240221, 0.00250311, 0.00240214, 0.00240233, 0.00230212,\n",
       "        0.00240242, 0.00210216, 0.0025023 , 0.00240214, 0.0028033 ,\n",
       "        0.00220282, 0.00240214, 0.0025022 , 0.00240228, 0.00240297,\n",
       "        0.00260246, 0.00240211, 0.00260224, 0.00260262, 0.00270247,\n",
       "        0.00240216, 0.00230217, 0.00350363, 0.00270145, 0.00260167,\n",
       "        0.00240211, 0.00240228, 0.00260243, 0.00270319, 0.0025023 ,\n",
       "        0.00280266, 0.00260255, 0.00230134, 0.00260231, 0.00230203,\n",
       "        0.00210195, 0.00230215, 0.0027025 , 0.00250232, 0.00260231,\n",
       "        0.00270233, 0.0023021 , 0.00240216, 0.00250232, 0.0024014 ,\n",
       "        0.00240219, 0.00260224, 0.00240219, 0.00250173, 0.00260248,\n",
       "        0.00240216, 0.0027024 , 0.00250163, 0.00280261, 0.00230215,\n",
       "        0.00250227, 0.00250227, 0.00270329, 0.00270247, 0.00280209,\n",
       "        0.00260279, 0.00290184, 0.00280249, 0.00290272, 0.00250227,\n",
       "        0.00280247, 0.00290265, 0.00300291, 0.00270243, 0.00320385,\n",
       "        0.00310283, 0.0028024 , 0.00300279, 0.00290256, 0.00310278,\n",
       "        0.00260229, 0.00230193, 0.00250239, 0.00270257, 0.0025022 ,\n",
       "        0.00270262, 0.00250208, 0.00240216, 0.00230212, 0.00240219,\n",
       "        0.00260239, 0.00280802, 0.00270259, 0.00240147, 0.0023021 ,\n",
       "        0.00250146, 0.00250311, 0.00260234, 0.00240226, 0.00240214,\n",
       "        0.00230293, 0.00270257, 0.00230198, 0.00260162]),\n",
       " 'std_fit_time': array([0.0004903 , 0.00050135, 0.00049031, 0.00049045, 0.0004586 ,\n",
       "        0.00049047, 0.00030016, 0.00050035, 0.00049021, 0.00040072,\n",
       "        0.00039998, 0.00049041, 0.00050049, 0.00049039, 0.00048983,\n",
       "        0.00049042, 0.00049043, 0.00049053, 0.00049026, 0.00045878,\n",
       "        0.00049034, 0.00045867, 0.00186052, 0.00045816, 0.00049129,\n",
       "        0.00049038, 0.00049034, 0.00049035, 0.00045753, 0.00050049,\n",
       "        0.00040021, 0.0004904 , 0.00045923, 0.00049035, 0.00045866,\n",
       "        0.00030023, 0.00045864, 0.00045874, 0.00050042, 0.0004902 ,\n",
       "        0.00045847, 0.00045877, 0.00049019, 0.00050051, 0.00048926,\n",
       "        0.00049032, 0.00049034, 0.00049042, 0.00050126, 0.00049034,\n",
       "        0.00049034, 0.00045878, 0.00049954, 0.0006005 , 0.00045864,\n",
       "        0.00050037, 0.00050042, 0.00045916, 0.00045867, 0.00040022,\n",
       "        0.00048996, 0.00030004, 0.00060054, 0.00030032, 0.00050042,\n",
       "        0.00040035, 0.0003003 , 0.00063309, 0.00045869, 0.00039997,\n",
       "        0.00030023, 0.00040032, 0.00044761, 0.00030018, 0.00030017,\n",
       "        0.00049018, 0.00045878, 0.00050044, 0.00045703, 0.00050044,\n",
       "        0.00045856, 0.00050075, 0.00049039, 0.00045865, 0.00049042,\n",
       "        0.00049046, 0.00040352, 0.0004587 , 0.00048935, 0.00045861,\n",
       "        0.00050109, 0.0005014 , 0.00049037, 0.00049036, 0.0004905 ,\n",
       "        0.00045818, 0.00045873, 0.00045864, 0.00048974]),\n",
       " 'mean_score_time': array([0.07456782, 0.08567729, 0.08948152, 0.10979981, 0.1076982 ,\n",
       "        0.10949955, 0.10849867, 0.10689819, 0.10783653, 0.10858943,\n",
       "        0.10669646, 0.10809839, 0.1087492 , 0.11000013, 0.10659635,\n",
       "        0.10759876, 0.10990016, 0.10949986, 0.11150131, 0.10905409,\n",
       "        0.10939968, 0.10809827, 0.10789866, 0.10929964, 0.11030147,\n",
       "        0.11063824, 0.11122563, 0.10939963, 0.11056643, 0.10789824,\n",
       "        0.1079983 , 0.10899994, 0.10959978, 0.11040058, 0.10899942,\n",
       "        0.10899923, 0.10919943, 0.11080091, 0.10829878, 0.11160252,\n",
       "        0.1122015 , 0.11205156, 0.11250334, 0.11059985, 0.11040149,\n",
       "        0.11122072, 0.11040814, 0.11002347, 0.10990088, 0.11121182,\n",
       "        0.11350329, 0.11020117, 0.1109122 , 0.11136308, 0.11116674,\n",
       "        0.11190183, 0.11150157, 0.11160164, 0.11202714, 0.11135597,\n",
       "        0.11170857, 0.11160941, 0.11270189, 0.11340313, 0.11140838,\n",
       "        0.11210227, 0.11230226, 0.11501021, 0.11440413, 0.11272006,\n",
       "        0.11782384, 0.1169066 , 0.11440501, 0.11467185, 0.11312637,\n",
       "        0.11280847, 0.11644228, 0.11430404, 0.11360426, 0.11361146,\n",
       "        0.1131036 , 0.11451683, 0.11480451, 0.11331933, 0.11420319,\n",
       "        0.11333487, 0.11340315, 0.11410401, 0.11534491, 0.11529624,\n",
       "        0.11348839, 0.11460276, 0.11497519, 0.11584234, 0.11540501,\n",
       "        0.11974614, 0.11670618, 0.1143625 , 0.11771634]),\n",
       " 'std_score_time': array([0.0023364 , 0.00610779, 0.00693715, 0.0046321 , 0.00307379,\n",
       "        0.00372265, 0.00196116, 0.00188683, 0.00389897, 0.0033507 ,\n",
       "        0.00168753, 0.00228225, 0.00277785, 0.00393978, 0.0015007 ,\n",
       "        0.00206429, 0.00337607, 0.00385571, 0.00465606, 0.00523486,\n",
       "        0.00219552, 0.00306794, 0.00222753, 0.00365825, 0.00271687,\n",
       "        0.0050988 , 0.00449526, 0.00363793, 0.00384437, 0.00252277,\n",
       "        0.00144631, 0.00321196, 0.00180365, 0.00155395, 0.00242843,\n",
       "        0.00221438, 0.00211966, 0.00257323, 0.00132783, 0.00403566,\n",
       "        0.00258923, 0.00374809, 0.00615806, 0.00413571, 0.00338229,\n",
       "        0.00213584, 0.0027641 , 0.00203786, 0.00177927, 0.00403994,\n",
       "        0.0022481 , 0.00207379, 0.00289741, 0.0021857 , 0.00295433,\n",
       "        0.00278729, 0.00287433, 0.00314137, 0.00271215, 0.00262267,\n",
       "        0.00163342, 0.00288144, 0.00434531, 0.00447735, 0.00360575,\n",
       "        0.00300172, 0.00357614, 0.00535737, 0.00617067, 0.00205183,\n",
       "        0.00702194, 0.00458159, 0.00322852, 0.00265182, 0.00216049,\n",
       "        0.00447148, 0.00538393, 0.00227364, 0.00323545, 0.0039859 ,\n",
       "        0.00449876, 0.00499181, 0.00588836, 0.00336605, 0.00295122,\n",
       "        0.00271919, 0.00355448, 0.00454207, 0.00285206, 0.00412679,\n",
       "        0.00202964, 0.00356068, 0.00368669, 0.00554676, 0.00210187,\n",
       "        0.00450495, 0.00422767, 0.00377755, 0.00577859]),\n",
       " 'param_n_neighbors': masked_array(data=[1, 2, 3, 4, 5, 6, 7, 8, 9, 10, 11, 12, 13, 14, 15, 16,\n",
       "                    17, 18, 19, 20, 21, 22, 23, 24, 25, 26, 27, 28, 29, 30,\n",
       "                    31, 32, 33, 34, 35, 36, 37, 38, 39, 40, 41, 42, 43, 44,\n",
       "                    45, 46, 47, 48, 49, 50, 51, 52, 53, 54, 55, 56, 57, 58,\n",
       "                    59, 60, 61, 62, 63, 64, 65, 66, 67, 68, 69, 70, 71, 72,\n",
       "                    73, 74, 75, 76, 77, 78, 79, 80, 81, 82, 83, 84, 85, 86,\n",
       "                    87, 88, 89, 90, 91, 92, 93, 94, 95, 96, 97, 98, 99],\n",
       "              mask=[False, False, False, False, False, False, False, False,\n",
       "                    False, False, False, False, False, False, False, False,\n",
       "                    False, False, False, False, False, False, False, False,\n",
       "                    False, False, False, False, False, False, False, False,\n",
       "                    False, False, False, False, False, False, False, False,\n",
       "                    False, False, False, False, False, False, False, False,\n",
       "                    False, False, False, False, False, False, False, False,\n",
       "                    False, False, False, False, False, False, False, False,\n",
       "                    False, False, False, False, False, False, False, False,\n",
       "                    False, False, False, False, False, False, False, False,\n",
       "                    False, False, False, False, False, False, False, False,\n",
       "                    False, False, False, False, False, False, False, False,\n",
       "                    False, False, False],\n",
       "        fill_value='?',\n",
       "             dtype=object),\n",
       " 'params': [{'n_neighbors': 1},\n",
       "  {'n_neighbors': 2},\n",
       "  {'n_neighbors': 3},\n",
       "  {'n_neighbors': 4},\n",
       "  {'n_neighbors': 5},\n",
       "  {'n_neighbors': 6},\n",
       "  {'n_neighbors': 7},\n",
       "  {'n_neighbors': 8},\n",
       "  {'n_neighbors': 9},\n",
       "  {'n_neighbors': 10},\n",
       "  {'n_neighbors': 11},\n",
       "  {'n_neighbors': 12},\n",
       "  {'n_neighbors': 13},\n",
       "  {'n_neighbors': 14},\n",
       "  {'n_neighbors': 15},\n",
       "  {'n_neighbors': 16},\n",
       "  {'n_neighbors': 17},\n",
       "  {'n_neighbors': 18},\n",
       "  {'n_neighbors': 19},\n",
       "  {'n_neighbors': 20},\n",
       "  {'n_neighbors': 21},\n",
       "  {'n_neighbors': 22},\n",
       "  {'n_neighbors': 23},\n",
       "  {'n_neighbors': 24},\n",
       "  {'n_neighbors': 25},\n",
       "  {'n_neighbors': 26},\n",
       "  {'n_neighbors': 27},\n",
       "  {'n_neighbors': 28},\n",
       "  {'n_neighbors': 29},\n",
       "  {'n_neighbors': 30},\n",
       "  {'n_neighbors': 31},\n",
       "  {'n_neighbors': 32},\n",
       "  {'n_neighbors': 33},\n",
       "  {'n_neighbors': 34},\n",
       "  {'n_neighbors': 35},\n",
       "  {'n_neighbors': 36},\n",
       "  {'n_neighbors': 37},\n",
       "  {'n_neighbors': 38},\n",
       "  {'n_neighbors': 39},\n",
       "  {'n_neighbors': 40},\n",
       "  {'n_neighbors': 41},\n",
       "  {'n_neighbors': 42},\n",
       "  {'n_neighbors': 43},\n",
       "  {'n_neighbors': 44},\n",
       "  {'n_neighbors': 45},\n",
       "  {'n_neighbors': 46},\n",
       "  {'n_neighbors': 47},\n",
       "  {'n_neighbors': 48},\n",
       "  {'n_neighbors': 49},\n",
       "  {'n_neighbors': 50},\n",
       "  {'n_neighbors': 51},\n",
       "  {'n_neighbors': 52},\n",
       "  {'n_neighbors': 53},\n",
       "  {'n_neighbors': 54},\n",
       "  {'n_neighbors': 55},\n",
       "  {'n_neighbors': 56},\n",
       "  {'n_neighbors': 57},\n",
       "  {'n_neighbors': 58},\n",
       "  {'n_neighbors': 59},\n",
       "  {'n_neighbors': 60},\n",
       "  {'n_neighbors': 61},\n",
       "  {'n_neighbors': 62},\n",
       "  {'n_neighbors': 63},\n",
       "  {'n_neighbors': 64},\n",
       "  {'n_neighbors': 65},\n",
       "  {'n_neighbors': 66},\n",
       "  {'n_neighbors': 67},\n",
       "  {'n_neighbors': 68},\n",
       "  {'n_neighbors': 69},\n",
       "  {'n_neighbors': 70},\n",
       "  {'n_neighbors': 71},\n",
       "  {'n_neighbors': 72},\n",
       "  {'n_neighbors': 73},\n",
       "  {'n_neighbors': 74},\n",
       "  {'n_neighbors': 75},\n",
       "  {'n_neighbors': 76},\n",
       "  {'n_neighbors': 77},\n",
       "  {'n_neighbors': 78},\n",
       "  {'n_neighbors': 79},\n",
       "  {'n_neighbors': 80},\n",
       "  {'n_neighbors': 81},\n",
       "  {'n_neighbors': 82},\n",
       "  {'n_neighbors': 83},\n",
       "  {'n_neighbors': 84},\n",
       "  {'n_neighbors': 85},\n",
       "  {'n_neighbors': 86},\n",
       "  {'n_neighbors': 87},\n",
       "  {'n_neighbors': 88},\n",
       "  {'n_neighbors': 89},\n",
       "  {'n_neighbors': 90},\n",
       "  {'n_neighbors': 91},\n",
       "  {'n_neighbors': 92},\n",
       "  {'n_neighbors': 93},\n",
       "  {'n_neighbors': 94},\n",
       "  {'n_neighbors': 95},\n",
       "  {'n_neighbors': 96},\n",
       "  {'n_neighbors': 97},\n",
       "  {'n_neighbors': 98},\n",
       "  {'n_neighbors': 99}],\n",
       " 'split0_test_score': array([0.28571429, 0.        , 0.        , 0.        , 0.        ,\n",
       "        0.        , 0.        , 0.        , 0.        , 0.        ,\n",
       "        0.        , 0.        , 0.        , 0.        , 0.        ,\n",
       "        0.        , 0.        , 0.        , 0.        , 0.        ,\n",
       "        0.        , 0.        , 0.        , 0.        , 0.        ,\n",
       "        0.        , 0.        , 0.        , 0.        , 0.        ,\n",
       "        0.        , 0.        , 0.        , 0.        , 0.        ,\n",
       "        0.        , 0.        , 0.        , 0.        , 0.        ,\n",
       "        0.        , 0.        , 0.        , 0.        , 0.        ,\n",
       "        0.        , 0.        , 0.        , 0.        , 0.        ,\n",
       "        0.        , 0.        , 0.        , 0.        , 0.        ,\n",
       "        0.        , 0.        , 0.        , 0.        , 0.        ,\n",
       "        0.        , 0.        , 0.        , 0.        , 0.        ,\n",
       "        0.        , 0.        , 0.        , 0.        , 0.        ,\n",
       "        0.        , 0.        , 0.        , 0.        , 0.        ,\n",
       "        0.        , 0.        , 0.        , 0.        , 0.        ,\n",
       "        0.        , 0.        , 0.        , 0.        , 0.        ,\n",
       "        0.        , 0.        , 0.        , 0.        , 0.        ,\n",
       "        0.        , 0.        , 0.        , 0.        , 0.        ,\n",
       "        0.        , 0.        , 0.        , 0.        ]),\n",
       " 'split1_test_score': array([0., 0., 0., 0., 0., 0., 0., 0., 0., 0., 0., 0., 0., 0., 0., 0., 0.,\n",
       "        0., 0., 0., 0., 0., 0., 0., 0., 0., 0., 0., 0., 0., 0., 0., 0., 0.,\n",
       "        0., 0., 0., 0., 0., 0., 0., 0., 0., 0., 0., 0., 0., 0., 0., 0., 0.,\n",
       "        0., 0., 0., 0., 0., 0., 0., 0., 0., 0., 0., 0., 0., 0., 0., 0., 0.,\n",
       "        0., 0., 0., 0., 0., 0., 0., 0., 0., 0., 0., 0., 0., 0., 0., 0., 0.,\n",
       "        0., 0., 0., 0., 0., 0., 0., 0., 0., 0., 0., 0., 0., 0.]),\n",
       " 'split2_test_score': array([0., 0., 0., 0., 0., 0., 0., 0., 0., 0., 0., 0., 0., 0., 0., 0., 0.,\n",
       "        0., 0., 0., 0., 0., 0., 0., 0., 0., 0., 0., 0., 0., 0., 0., 0., 0.,\n",
       "        0., 0., 0., 0., 0., 0., 0., 0., 0., 0., 0., 0., 0., 0., 0., 0., 0.,\n",
       "        0., 0., 0., 0., 0., 0., 0., 0., 0., 0., 0., 0., 0., 0., 0., 0., 0.,\n",
       "        0., 0., 0., 0., 0., 0., 0., 0., 0., 0., 0., 0., 0., 0., 0., 0., 0.,\n",
       "        0., 0., 0., 0., 0., 0., 0., 0., 0., 0., 0., 0., 0., 0.]),\n",
       " 'split3_test_score': array([0., 0., 0., 0., 0., 0., 0., 0., 0., 0., 0., 0., 0., 0., 0., 0., 0.,\n",
       "        0., 0., 0., 0., 0., 0., 0., 0., 0., 0., 0., 0., 0., 0., 0., 0., 0.,\n",
       "        0., 0., 0., 0., 0., 0., 0., 0., 0., 0., 0., 0., 0., 0., 0., 0., 0.,\n",
       "        0., 0., 0., 0., 0., 0., 0., 0., 0., 0., 0., 0., 0., 0., 0., 0., 0.,\n",
       "        0., 0., 0., 0., 0., 0., 0., 0., 0., 0., 0., 0., 0., 0., 0., 0., 0.,\n",
       "        0., 0., 0., 0., 0., 0., 0., 0., 0., 0., 0., 0., 0., 0.]),\n",
       " 'split4_test_score': array([0., 0., 0., 0., 0., 0., 0., 0., 0., 0., 0., 0., 0., 0., 0., 0., 0.,\n",
       "        0., 0., 0., 0., 0., 0., 0., 0., 0., 0., 0., 0., 0., 0., 0., 0., 0.,\n",
       "        0., 0., 0., 0., 0., 0., 0., 0., 0., 0., 0., 0., 0., 0., 0., 0., 0.,\n",
       "        0., 0., 0., 0., 0., 0., 0., 0., 0., 0., 0., 0., 0., 0., 0., 0., 0.,\n",
       "        0., 0., 0., 0., 0., 0., 0., 0., 0., 0., 0., 0., 0., 0., 0., 0., 0.,\n",
       "        0., 0., 0., 0., 0., 0., 0., 0., 0., 0., 0., 0., 0., 0.]),\n",
       " 'split5_test_score': array([0., 0., 0., 0., 0., 0., 0., 0., 0., 0., 0., 0., 0., 0., 0., 0., 0.,\n",
       "        0., 0., 0., 0., 0., 0., 0., 0., 0., 0., 0., 0., 0., 0., 0., 0., 0.,\n",
       "        0., 0., 0., 0., 0., 0., 0., 0., 0., 0., 0., 0., 0., 0., 0., 0., 0.,\n",
       "        0., 0., 0., 0., 0., 0., 0., 0., 0., 0., 0., 0., 0., 0., 0., 0., 0.,\n",
       "        0., 0., 0., 0., 0., 0., 0., 0., 0., 0., 0., 0., 0., 0., 0., 0., 0.,\n",
       "        0., 0., 0., 0., 0., 0., 0., 0., 0., 0., 0., 0., 0., 0.]),\n",
       " 'split6_test_score': array([0., 0., 0., 0., 0., 0., 0., 0., 0., 0., 0., 0., 0., 0., 0., 0., 0.,\n",
       "        0., 0., 0., 0., 0., 0., 0., 0., 0., 0., 0., 0., 0., 0., 0., 0., 0.,\n",
       "        0., 0., 0., 0., 0., 0., 0., 0., 0., 0., 0., 0., 0., 0., 0., 0., 0.,\n",
       "        0., 0., 0., 0., 0., 0., 0., 0., 0., 0., 0., 0., 0., 0., 0., 0., 0.,\n",
       "        0., 0., 0., 0., 0., 0., 0., 0., 0., 0., 0., 0., 0., 0., 0., 0., 0.,\n",
       "        0., 0., 0., 0., 0., 0., 0., 0., 0., 0., 0., 0., 0., 0.]),\n",
       " 'split7_test_score': array([0.22222222, 0.        , 0.        , 0.        , 0.        ,\n",
       "        0.        , 0.        , 0.        , 0.        , 0.        ,\n",
       "        0.        , 0.        , 0.        , 0.        , 0.        ,\n",
       "        0.        , 0.        , 0.        , 0.        , 0.        ,\n",
       "        0.        , 0.        , 0.        , 0.        , 0.        ,\n",
       "        0.        , 0.        , 0.        , 0.        , 0.        ,\n",
       "        0.        , 0.        , 0.        , 0.        , 0.        ,\n",
       "        0.        , 0.        , 0.        , 0.        , 0.        ,\n",
       "        0.        , 0.        , 0.        , 0.        , 0.        ,\n",
       "        0.        , 0.        , 0.        , 0.        , 0.        ,\n",
       "        0.        , 0.        , 0.        , 0.        , 0.        ,\n",
       "        0.        , 0.        , 0.        , 0.        , 0.        ,\n",
       "        0.        , 0.        , 0.        , 0.        , 0.        ,\n",
       "        0.        , 0.        , 0.        , 0.        , 0.        ,\n",
       "        0.        , 0.        , 0.        , 0.        , 0.        ,\n",
       "        0.        , 0.        , 0.        , 0.        , 0.        ,\n",
       "        0.        , 0.        , 0.        , 0.        , 0.        ,\n",
       "        0.        , 0.        , 0.        , 0.        , 0.        ,\n",
       "        0.        , 0.        , 0.        , 0.        , 0.        ,\n",
       "        0.        , 0.        , 0.        , 0.        ]),\n",
       " 'split8_test_score': array([0.25, 0.  , 0.  , 0.  , 0.  , 0.  , 0.  , 0.  , 0.  , 0.  , 0.  ,\n",
       "        0.  , 0.  , 0.  , 0.  , 0.  , 0.  , 0.  , 0.  , 0.  , 0.  , 0.  ,\n",
       "        0.  , 0.  , 0.  , 0.  , 0.  , 0.  , 0.  , 0.  , 0.  , 0.  , 0.  ,\n",
       "        0.  , 0.  , 0.  , 0.  , 0.  , 0.  , 0.  , 0.  , 0.  , 0.  , 0.  ,\n",
       "        0.  , 0.  , 0.  , 0.  , 0.  , 0.  , 0.  , 0.  , 0.  , 0.  , 0.  ,\n",
       "        0.  , 0.  , 0.  , 0.  , 0.  , 0.  , 0.  , 0.  , 0.  , 0.  , 0.  ,\n",
       "        0.  , 0.  , 0.  , 0.  , 0.  , 0.  , 0.  , 0.  , 0.  , 0.  , 0.  ,\n",
       "        0.  , 0.  , 0.  , 0.  , 0.  , 0.  , 0.  , 0.  , 0.  , 0.  , 0.  ,\n",
       "        0.  , 0.  , 0.  , 0.  , 0.  , 0.  , 0.  , 0.  , 0.  , 0.  , 0.  ]),\n",
       " 'split9_test_score': array([0., 0., 0., 0., 0., 0., 0., 0., 0., 0., 0., 0., 0., 0., 0., 0., 0.,\n",
       "        0., 0., 0., 0., 0., 0., 0., 0., 0., 0., 0., 0., 0., 0., 0., 0., 0.,\n",
       "        0., 0., 0., 0., 0., 0., 0., 0., 0., 0., 0., 0., 0., 0., 0., 0., 0.,\n",
       "        0., 0., 0., 0., 0., 0., 0., 0., 0., 0., 0., 0., 0., 0., 0., 0., 0.,\n",
       "        0., 0., 0., 0., 0., 0., 0., 0., 0., 0., 0., 0., 0., 0., 0., 0., 0.,\n",
       "        0., 0., 0., 0., 0., 0., 0., 0., 0., 0., 0., 0., 0., 0.]),\n",
       " 'mean_test_score': array([0.07579365, 0.        , 0.        , 0.        , 0.        ,\n",
       "        0.        , 0.        , 0.        , 0.        , 0.        ,\n",
       "        0.        , 0.        , 0.        , 0.        , 0.        ,\n",
       "        0.        , 0.        , 0.        , 0.        , 0.        ,\n",
       "        0.        , 0.        , 0.        , 0.        , 0.        ,\n",
       "        0.        , 0.        , 0.        , 0.        , 0.        ,\n",
       "        0.        , 0.        , 0.        , 0.        , 0.        ,\n",
       "        0.        , 0.        , 0.        , 0.        , 0.        ,\n",
       "        0.        , 0.        , 0.        , 0.        , 0.        ,\n",
       "        0.        , 0.        , 0.        , 0.        , 0.        ,\n",
       "        0.        , 0.        , 0.        , 0.        , 0.        ,\n",
       "        0.        , 0.        , 0.        , 0.        , 0.        ,\n",
       "        0.        , 0.        , 0.        , 0.        , 0.        ,\n",
       "        0.        , 0.        , 0.        , 0.        , 0.        ,\n",
       "        0.        , 0.        , 0.        , 0.        , 0.        ,\n",
       "        0.        , 0.        , 0.        , 0.        , 0.        ,\n",
       "        0.        , 0.        , 0.        , 0.        , 0.        ,\n",
       "        0.        , 0.        , 0.        , 0.        , 0.        ,\n",
       "        0.        , 0.        , 0.        , 0.        , 0.        ,\n",
       "        0.        , 0.        , 0.        , 0.        ]),\n",
       " 'std_test_score': array([0.11664844, 0.        , 0.        , 0.        , 0.        ,\n",
       "        0.        , 0.        , 0.        , 0.        , 0.        ,\n",
       "        0.        , 0.        , 0.        , 0.        , 0.        ,\n",
       "        0.        , 0.        , 0.        , 0.        , 0.        ,\n",
       "        0.        , 0.        , 0.        , 0.        , 0.        ,\n",
       "        0.        , 0.        , 0.        , 0.        , 0.        ,\n",
       "        0.        , 0.        , 0.        , 0.        , 0.        ,\n",
       "        0.        , 0.        , 0.        , 0.        , 0.        ,\n",
       "        0.        , 0.        , 0.        , 0.        , 0.        ,\n",
       "        0.        , 0.        , 0.        , 0.        , 0.        ,\n",
       "        0.        , 0.        , 0.        , 0.        , 0.        ,\n",
       "        0.        , 0.        , 0.        , 0.        , 0.        ,\n",
       "        0.        , 0.        , 0.        , 0.        , 0.        ,\n",
       "        0.        , 0.        , 0.        , 0.        , 0.        ,\n",
       "        0.        , 0.        , 0.        , 0.        , 0.        ,\n",
       "        0.        , 0.        , 0.        , 0.        , 0.        ,\n",
       "        0.        , 0.        , 0.        , 0.        , 0.        ,\n",
       "        0.        , 0.        , 0.        , 0.        , 0.        ,\n",
       "        0.        , 0.        , 0.        , 0.        , 0.        ,\n",
       "        0.        , 0.        , 0.        , 0.        ]),\n",
       " 'rank_test_score': array([1, 2, 2, 2, 2, 2, 2, 2, 2, 2, 2, 2, 2, 2, 2, 2, 2, 2, 2, 2, 2, 2,\n",
       "        2, 2, 2, 2, 2, 2, 2, 2, 2, 2, 2, 2, 2, 2, 2, 2, 2, 2, 2, 2, 2, 2,\n",
       "        2, 2, 2, 2, 2, 2, 2, 2, 2, 2, 2, 2, 2, 2, 2, 2, 2, 2, 2, 2, 2, 2,\n",
       "        2, 2, 2, 2, 2, 2, 2, 2, 2, 2, 2, 2, 2, 2, 2, 2, 2, 2, 2, 2, 2, 2,\n",
       "        2, 2, 2, 2, 2, 2, 2, 2, 2, 2, 2])}"
      ]
     },
     "execution_count": 42,
     "metadata": {},
     "output_type": "execute_result"
    }
   ],
   "source": [
    "grid.cv_results_"
   ]
  },
  {
   "cell_type": "code",
   "execution_count": 43,
   "id": "7dc5d831",
   "metadata": {},
   "outputs": [
    {
     "name": "stdout",
     "output_type": "stream",
     "text": [
      "Best params:  {'n_neighbors': 1}\n",
      "Best estimator:  KNeighborsClassifier(n_neighbors=1)\n",
      "Best score:  0.0757936507936508\n"
     ]
    }
   ],
   "source": [
    "# examine the best model\n",
    "\n",
    "print(\"Best params: \", grid.best_params_)\n",
    "print(\"Best estimator: \", grid.best_estimator_)\n",
    "print(\"Best score: \", grid.best_score_)"
   ]
  },
  {
   "cell_type": "markdown",
   "id": "ef553eff",
   "metadata": {},
   "source": [
    "# Best K found was 1 with best F1 score of 0.0758"
   ]
  },
  {
   "cell_type": "markdown",
   "id": "3226d5a6",
   "metadata": {},
   "source": [
    "# Gaussian Naive Bayes Modeling"
   ]
  },
  {
   "cell_type": "code",
   "execution_count": 21,
   "id": "0131375b",
   "metadata": {},
   "outputs": [],
   "source": [
    "from sklearn.naive_bayes import GaussianNB"
   ]
  },
  {
   "cell_type": "code",
   "execution_count": 44,
   "id": "99ee4aa9",
   "metadata": {},
   "outputs": [
    {
     "name": "stdout",
     "output_type": "stream",
     "text": [
      "              precision    recall  f1-score   support\n",
      "\n",
      "           0       1.00      0.99      0.99      2485\n",
      "           1       0.32      0.60      0.42        15\n",
      "\n",
      "    accuracy                           0.99      2500\n",
      "   macro avg       0.66      0.80      0.71      2500\n",
      "weighted avg       0.99      0.99      0.99      2500\n",
      "\n"
     ]
    }
   ],
   "source": [
    "gnb = GaussianNB()\n",
    "gnb.fit(X_train, y_train)\n",
    "y_pred = gnb.predict(X_test)\n",
    "\n",
    "print(classification_report(y_test, y_pred))"
   ]
  },
  {
   "cell_type": "markdown",
   "id": "7077b09a",
   "metadata": {},
   "source": [
    "# Gaussian Naive Bayes F1 Score = 0.42"
   ]
  },
  {
   "cell_type": "markdown",
   "id": "7fe6aaa2",
   "metadata": {},
   "source": [
    "# Random Forest Modeling"
   ]
  },
  {
   "cell_type": "code",
   "execution_count": 80,
   "id": "2cac2c52",
   "metadata": {},
   "outputs": [],
   "source": [
    "from sklearn.ensemble import RandomForestClassifier"
   ]
  },
  {
   "cell_type": "code",
   "execution_count": 87,
   "id": "7f8920e4",
   "metadata": {},
   "outputs": [
    {
     "name": "stdout",
     "output_type": "stream",
     "text": [
      "              precision    recall  f1-score   support\n",
      "\n",
      "           0       0.99      1.00      1.00      2485\n",
      "           1       0.50      0.07      0.12        15\n",
      "\n",
      "    accuracy                           0.99      2500\n",
      "   macro avg       0.75      0.53      0.56      2500\n",
      "weighted avg       0.99      0.99      0.99      2500\n",
      "\n"
     ]
    }
   ],
   "source": [
    "rf = RandomForestClassifier(random_state=42)\n",
    "rf.fit(X_train, y_train)\n",
    "y_pred = rf.predict(X_test)\n",
    "\n",
    "print(classification_report(y_test, y_pred))"
   ]
  },
  {
   "cell_type": "markdown",
   "id": "d0b4435a",
   "metadata": {},
   "source": [
    "# Random Forest F1 Score = 0.12"
   ]
  },
  {
   "cell_type": "markdown",
   "id": "78aa1d68",
   "metadata": {},
   "source": [
    "# XGBoost"
   ]
  },
  {
   "cell_type": "code",
   "execution_count": 72,
   "id": "ad150bf0",
   "metadata": {},
   "outputs": [],
   "source": [
    "from xgboost import XGBClassifier\n",
    "import xgboost as xgb\n",
    "from xgboost import plot_tree"
   ]
  },
  {
   "cell_type": "code",
   "execution_count": 79,
   "id": "ea864e45",
   "metadata": {},
   "outputs": [
    {
     "name": "stdout",
     "output_type": "stream",
     "text": [
      "[18:44:31] WARNING: C:/Users/Administrator/workspace/xgboost-win64_release_1.5.1/src/learner.cc:1115: Starting in XGBoost 1.3.0, the default evaluation metric used with the objective 'binary:logistic' was changed from 'error' to 'logloss'. Explicitly set eval_metric if you'd like to restore the old behavior.\n",
      "              precision    recall  f1-score   support\n",
      "\n",
      "           0       0.99      1.00      1.00      2485\n",
      "           1       1.00      0.13      0.24        15\n",
      "\n",
      "    accuracy                           0.99      2500\n",
      "   macro avg       1.00      0.57      0.62      2500\n",
      "weighted avg       0.99      0.99      0.99      2500\n",
      "\n"
     ]
    },
    {
     "name": "stderr",
     "output_type": "stream",
     "text": [
      "C:\\Users\\New User\\anaconda3\\lib\\site-packages\\xgboost\\sklearn.py:1224: UserWarning: The use of label encoder in XGBClassifier is deprecated and will be removed in a future release. To remove this warning, do the following: 1) Pass option use_label_encoder=False when constructing XGBClassifier object; and 2) Encode your labels (y) as integers starting with 0, i.e. 0, 1, 2, ..., [num_class - 1].\n",
      "  warnings.warn(label_encoder_deprecation_msg, UserWarning)\n"
     ]
    }
   ],
   "source": [
    "xgb_model = XGBClassifier()\n",
    "xgb_model.fit(X_train, y_train)\n",
    "y_pred = xgb_model.predict(X_test)\n",
    "\n",
    "print(classification_report(y_test, y_pred))"
   ]
  },
  {
   "cell_type": "markdown",
   "id": "0f7b36d3",
   "metadata": {},
   "source": [
    "# XGBoost F1 Score = 0.24"
   ]
  },
  {
   "cell_type": "markdown",
   "id": "1457e277",
   "metadata": {},
   "source": [
    "# Let's test out different resampling technique for Logistic Regression"
   ]
  },
  {
   "cell_type": "code",
   "execution_count": 89,
   "id": "e53ead0f",
   "metadata": {},
   "outputs": [],
   "source": [
    "from imblearn.over_sampling import SMOTE, RandomOverSampler\n",
    "from imblearn.under_sampling import RandomUnderSampler\n",
    "import imblearn.pipeline"
   ]
  },
  {
   "cell_type": "code",
   "execution_count": 91,
   "id": "42469eaf",
   "metadata": {},
   "outputs": [],
   "source": [
    "# Random Oversampling\n",
    "oversamp_pipeline = imblearn.pipeline.Pipeline([('oversample', RandomOverSampler(random_state=42)),\n",
    "                                                ('lr', LogisticRegression(solver='liblinear', class_weight={0: 1, 1: 10}, C=10, penalty='l1'))])"
   ]
  },
  {
   "cell_type": "code",
   "execution_count": 92,
   "id": "9b60b677",
   "metadata": {},
   "outputs": [],
   "source": [
    "# Random Undersampling\n",
    "undersamp_pipeline = imblearn.pipeline.Pipeline([('undersample', RandomUnderSampler(random_state=42)),\n",
    "                                                  ('lr', LogisticRegression(solver='liblinear', class_weight={0: 1, 1: 10}, C=10, penalty='l1'))])"
   ]
  },
  {
   "cell_type": "code",
   "execution_count": 97,
   "id": "18f3a045",
   "metadata": {},
   "outputs": [],
   "source": [
    "# Oversampling - SMOTE\n",
    "smote_pipeline = imblearn.pipeline.Pipeline([('smote', SMOTE(random_state=42)),\n",
    "                                              ('lr', LogisticRegression(solver='liblinear', class_weight={0: 1, 1: 10}, C=10, penalty='l1'))])"
   ]
  },
  {
   "cell_type": "code",
   "execution_count": 98,
   "id": "ae7e19d9",
   "metadata": {},
   "outputs": [],
   "source": [
    "sampling_methods = {'random_oversampling': oversamp_pipeline,\n",
    "                    'random_undersampling': undersamp_pipeline,\n",
    "                    'smote': smote_pipeline}"
   ]
  },
  {
   "cell_type": "code",
   "execution_count": 101,
   "id": "a3535a92",
   "metadata": {},
   "outputs": [
    {
     "name": "stdout",
     "output_type": "stream",
     "text": [
      "random_oversampling 0.022426448565429073\n",
      "random_undersampling 0.021960779015674337\n",
      "smote 0.0921107408548253\n"
     ]
    }
   ],
   "source": [
    "sampling_cv_results = {}\n",
    "\n",
    "for method, pipeline in sampling_methods.items():\n",
    "    cv_results = cross_val_score(pipeline, X_train, y_train, cv=StratifiedKFold(n_splits=5), scoring='f1')\n",
    "    sampling_cv_results[method] = cv_results\n",
    "    print(method, cv_results.mean())"
   ]
  },
  {
   "cell_type": "code",
   "execution_count": 102,
   "id": "76380959",
   "metadata": {},
   "outputs": [
    {
     "data": {
      "image/png": "[encoded data removed]",
      "text/plain": [
       "<Figure size 720x576 with 1 Axes>"
      ]
     },
     "metadata": {},
     "output_type": "display_data"
    }
   ],
   "source": [
    "fig, ax = plt.subplots(figsize=(10,8))\n",
    "plt.boxplot(sampling_cv_results.values())\n",
    "ax.set_xticklabels(sampling_cv_results.keys())\n",
    "plt.title('F1 scores of Logistic Regression Classifier using Different Sampling Methods')\n",
    "plt.savefig('C:/Users/New User/Desktop/Fraud/sampling_comparison_log_reg.png')"
   ]
  },
  {
   "cell_type": "markdown",
   "id": "200a8daa",
   "metadata": {},
   "source": [
    "# SMOTE produces best F1 score = .0921"
   ]
  },
  {
   "cell_type": "markdown",
   "id": "7d28f4c6",
   "metadata": {},
   "source": [
    "# Model Performance Comparison Chart"
   ]
  },
  {
   "cell_type": "code",
   "execution_count": 51,
   "id": "ef713b60",
   "metadata": {},
   "outputs": [
    {
     "data": {
      "image/png": "[encoded data removed]",
      "text/plain": [
       "<Figure size 720x720 with 1 Axes>"
      ]
     },
     "metadata": {},
     "output_type": "display_data"
    },
    {
     "data": {
      "text/plain": [
       "<Figure size 432x288 with 0 Axes>"
      ]
     },
     "metadata": {},
     "output_type": "display_data"
    }
   ],
   "source": [
    "# data\n",
    "# 1) Logistic Regression (F1 .48)\n",
    "# 2) KNN (F1 .07)\n",
    "# 3) Naives Bayes (F1 .42)\n",
    "# 4) Random Forest (F1 .12)\n",
    "# 5) XGBoost (F1 .24)\n",
    "\n",
    "\n",
    "\n",
    "x = ['Log Reg', 'Naive Bayes', 'XGBoost', 'Random Forest', 'KNN']\n",
    "h = [.48, .42, .24, .12, .07]\n",
    "c = ['red', 'orange', 'blue', 'blue', 'blue']\n",
    "\n",
    "#bar plot\n",
    "plt.figure(figsize=(10, 10))\n",
    "plt.bar(x, height = h, color = c)\n",
    "plt.xlabel(\"Models\", fontsize=20)\n",
    "plt.ylabel(\"F1 Score\", fontsize=20)\n",
    "plt.title(\"Model Performance Comparison\", fontsize=25)\n",
    "plt.xticks(fontsize=15)\n",
    "plt.yticks(fontsize=15)\n",
    "\n",
    "fig2 = plt.gcf()\n",
    "plt.show()\n",
    "plt.draw()\n",
    "\n",
    "fig2.savefig(\"C:/Users/New User/Desktop/Fraud/model_performance.png\", dpi=300)"
   ]
  },
  {
   "cell_type": "code",
   "execution_count": 47,
   "id": "c4d36cdd",
   "metadata": {},
   "outputs": [
    {
     "data": {
      "image/png": "[encoded data removed]",
      "text/plain": [
       "<Figure size 720x720 with 1 Axes>"
      ]
     },
     "metadata": {},
     "output_type": "display_data"
    },
    {
     "data": {
      "text/plain": [
       "<Figure size 432x288 with 0 Axes>"
      ]
     },
     "metadata": {},
     "output_type": "display_data"
    }
   ],
   "source": [
    "# Importing libraries for dataframe creation\n",
    "# and graph plotting\n",
    "import numpy as np\n",
    "import pandas as pd\n",
    "import seaborn as sns\n",
    "import matplotlib.pyplot as plt\n",
    " \n",
    "# Creating our own dataframe\n",
    "data = {\"Models\": ['Log Reg', 'Naive Bayes', 'XGBoost', 'Random Forest', 'KNN'],\n",
    "        \"F1 Score\": [.48, .42, .24, .12, .07]}\n",
    " \n",
    "# Now convert this dictionary type data into a pandas dataframe\n",
    "# specifying what are the column names\n",
    "df = pd.DataFrame(data, columns=['Models', 'F1 Score'])\n",
    " \n",
    " \n",
    "# Defining the plot size\n",
    "plt.figure(figsize=(10, 10))\n",
    " \n",
    "# Defining the values for x-axis, y-axis\n",
    "# and from which dataframe the values are to be picked\n",
    "plots = sns.barplot(x=\"Models\", y=\"F1 Score\", data=df)\n",
    " \n",
    "# Iterrating over the bars one-by-one\n",
    "for bar in plots.patches:\n",
    " \n",
    "    # Using Matplotlib's annotate function and\n",
    "    # passing the coordinates where the annotation shall be done\n",
    "    plots.annotate(format(bar.get_height(), '.2f'),\n",
    "                   (bar.get_x() + bar.get_width() / 2,\n",
    "                    bar.get_height()), ha='center', va='center',\n",
    "                   size=15, xytext=(0, 7),\n",
    "                   textcoords='offset points')\n",
    " \n",
    " \n",
    "# Setting the title for the graph\n",
    "plt.xlabel(\"Models\", fontsize=20)\n",
    "plt.ylabel(\"F1 Score\", fontsize=20)\n",
    "plt.title(\"Model Performance Comparison\", fontsize=25)\n",
    "plt.xticks(fontsize=15)\n",
    "plt.yticks(fontsize=15)\n",
    " \n",
    "# Finally showing the plot\n",
    "fig1 = plt.gcf()\n",
    "plt.show()\n",
    "plt.draw()\n",
    "fig1.savefig(\"C:/Users/New User/Desktop/Fraud/model_performance_sns_2.png\", dpi=300)"
   ]
  },
  {
   "cell_type": "code",
   "execution_count": null,
   "id": "aeb3baca",
   "metadata": {},
   "outputs": [],
   "source": []
  }
 ],
 "metadata": {
  "kernelspec": {
   "display_name": "Python 3 (ipykernel)",
   "language": "python",
   "name": "python3"
  },
  "language_info": {
   "codemirror_mode": {
    "name": "ipython",
    "version": 3
   },
   "file_extension": ".py",
   "mimetype": "text/x-python",
   "name": "python",
   "nbconvert_exporter": "python",
   "pygments_lexer": "ipython3",
   "version": "3.8.8"
  }
 },
 "nbformat": 4,
 "nbformat_minor": 5
}
