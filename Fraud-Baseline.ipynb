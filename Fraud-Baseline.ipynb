{
 "cells": [
  {
   "cell_type": "markdown",
   "id": "51c644ce",
   "metadata": {},
   "source": [
    "# Credit Card Fraud Detection Baseline Model"
   ]
  },
  {
   "cell_type": "markdown",
   "id": "3626b508",
   "metadata": {},
   "source": [
    "# Importing libraries"
   ]
  },
  {
   "cell_type": "code",
   "execution_count": 203,
   "id": "9aecebb8",
   "metadata": {},
   "outputs": [],
   "source": [
    "# munging imports\n",
    "import pandas as pd\n",
    "import numpy as np\n",
    "import datetime\n",
    "\n",
    "# visualization imports\n",
    "import matplotlib.pyplot as plt\n",
    "from matplotlib import pylab\n",
    "from pylab import *\n",
    "import seaborn as sns\n",
    "plt.style.use('fivethirtyeight')\n",
    "\n",
    "%matplotlib inline\n",
    "\n",
    "# modeling imports\n",
    "from sklearn.linear_model import LogisticRegression\n",
    "from sklearn.neighbors import KNeighborsClassifier\n",
    "from sklearn.model_selection import train_test_split\n",
    "from sklearn.metrics import precision_score, recall_score, accuracy_score, roc_auc_score, precision_recall_curve, roc_curve, auc\n",
    "from sklearn.metrics import confusion_matrix\n",
    "from sklearn.preprocessing import StandardScaler\n",
    "\n",
    "# Logistic regression visualization utility function\n",
    "def generate_logreg_vis(beta=-.05):\n",
    "    \n",
    "    # draw feature values and use beta to calculate predicted probability\n",
    "    # of positive class for each feature value\n",
    "    x = np.random.uniform(low=-1, high=1, size=150) * 100\n",
    "    p = 1 / (1 + np.exp(-(beta*x))) # logistic regression function\n",
    "    \n",
    "    # plot predicted probs against the feature \n",
    "    plt.scatter(x, p)\n",
    "    plt.title('Probability of Default vs. Credit Rating Score')\n",
    "    plt.ylabel('Predicted Probability of Default')\n",
    "    plt.xlabel('Credit Rating Score')\n",
    "    \n",
    "    # 50% probability threshold\n",
    "    plt.gca().axhline(.5,c='k',ls='--',lw=1)"
   ]
  },
  {
   "cell_type": "markdown",
   "id": "e2f138c0",
   "metadata": {},
   "source": [
    "# Importing data"
   ]
  },
  {
   "cell_type": "code",
   "execution_count": 204,
   "id": "6564ec8d",
   "metadata": {},
   "outputs": [
    {
     "name": "stderr",
     "output_type": "stream",
     "text": [
      "C:\\Users\\NEWUSE~1\\AppData\\Local\\Temp/ipykernel_20848/2990681922.py:2: FutureWarning: In a future version of pandas all arguments of DataFrame.drop except for the argument 'labels' will be keyword-only\n",
      "  df = df.drop('Unnamed: 0', 1) #dropping unncessary columns\n"
     ]
    },
    {
     "name": "stdout",
     "output_type": "stream",
     "text": [
      "<class 'pandas.core.frame.DataFrame'>\n",
      "Int64Index: 10000 entries, 1179553 to 794190\n",
      "Data columns (total 22 columns):\n",
      " #   Column                 Non-Null Count  Dtype  \n",
      "---  ------                 --------------  -----  \n",
      " 0   trans_date_trans_time  10000 non-null  object \n",
      " 1   cc_num                 10000 non-null  int64  \n",
      " 2   merchant               10000 non-null  object \n",
      " 3   category               10000 non-null  object \n",
      " 4   amt                    10000 non-null  float64\n",
      " 5   first                  10000 non-null  object \n",
      " 6   last                   10000 non-null  object \n",
      " 7   gender                 10000 non-null  object \n",
      " 8   street                 10000 non-null  object \n",
      " 9   city                   10000 non-null  object \n",
      " 10  state                  10000 non-null  object \n",
      " 11  zip                    10000 non-null  int64  \n",
      " 12  lat                    10000 non-null  float64\n",
      " 13  long                   10000 non-null  float64\n",
      " 14  city_pop               10000 non-null  int64  \n",
      " 15  job                    10000 non-null  object \n",
      " 16  dob                    10000 non-null  object \n",
      " 17  trans_num              10000 non-null  object \n",
      " 18  unix_time              10000 non-null  int64  \n",
      " 19  merch_lat              10000 non-null  float64\n",
      " 20  merch_long             10000 non-null  float64\n",
      " 21  is_fraud               10000 non-null  int64  \n",
      "dtypes: float64(5), int64(5), object(12)\n",
      "memory usage: 1.8+ MB\n"
     ]
    }
   ],
   "source": [
    "df = pd.read_csv(\"C:/Users/New User/Desktop/Fraud/data/fraudTrain.csv\")\n",
    "df = df.drop('Unnamed: 0', 1) #dropping unncessary columns\n",
    "sample_df = df.sample(n=10000) #taking 10,000 samples from original data of over 1m rows\n",
    "sample_df.info()"
   ]
  },
  {
   "cell_type": "markdown",
   "id": "9c1e2d29",
   "metadata": {},
   "source": [
    "# EDA"
   ]
  },
  {
   "cell_type": "code",
   "execution_count": 205,
   "id": "ea48c7d3",
   "metadata": {},
   "outputs": [
    {
     "name": "stdout",
     "output_type": "stream",
     "text": [
      "Class Distribution:\n",
      " 0    9952\n",
      "1      48\n",
      "Name: is_fraud, dtype: int64\n"
     ]
    },
    {
     "data": {
      "image/png": "[encoded data removed]",
      "text/plain": [
       "<Figure size 432x288 with 1 Axes>"
      ]
     },
     "metadata": {
      "needs_background": "light"
     },
     "output_type": "display_data"
    }
   ],
   "source": [
    "#Class Distribution\n",
    "import numpy as np\n",
    "import matplotlib.pyplot as plt\n",
    "plt.bar([0,1], sample_df['is_fraud'].value_counts(), width=0.5, bottom=None, align='center', data=sample_df)\n",
    "plt.title('Class Distribution')\n",
    "plt.xlabel('Classes')\n",
    "plt.ylabel('Frequency')\n",
    "plt.xticks([0, 1], ['Valid', 'Fraud'])\n",
    "print('Class Distribution:\\n',sample_df['is_fraud'].value_counts())\n",
    "plt.tight_layout()\n",
    "plt.savefig('C:/Users/New User/Desktop/Fraud/class_distribution.png')"
   ]
  },
  {
   "cell_type": "code",
   "execution_count": 188,
   "id": "d1372e20",
   "metadata": {},
   "outputs": [
    {
     "data": {
      "text/plain": [
       "0.0052"
      ]
     },
     "execution_count": 188,
     "metadata": {},
     "output_type": "execute_result"
    }
   ],
   "source": [
    "# fraud rate of sample or the average of sample that is fraud\n",
    "average = df['is_fraud'].mean()\n",
    "average"
   ]
  },
  {
   "cell_type": "code",
   "execution_count": 189,
   "id": "88ecf78d",
   "metadata": {},
   "outputs": [
    {
     "data": {
      "text/html": [
       "<div>\n",
       "<style scoped>\n",
       "    .dataframe tbody tr th:only-of-type {\n",
       "        vertical-align: middle;\n",
       "    }\n",
       "\n",
       "    .dataframe tbody tr th {\n",
       "        vertical-align: top;\n",
       "    }\n",
       "\n",
       "    .dataframe thead th {\n",
       "        text-align: right;\n",
       "    }\n",
       "</style>\n",
       "<table border=\"1\" class=\"dataframe\">\n",
       "  <thead>\n",
       "    <tr style=\"text-align: right;\">\n",
       "      <th></th>\n",
       "      <th>cc_num</th>\n",
       "      <th>amt</th>\n",
       "      <th>zip</th>\n",
       "      <th>lat</th>\n",
       "      <th>long</th>\n",
       "      <th>city_pop</th>\n",
       "      <th>unix_time</th>\n",
       "      <th>merch_lat</th>\n",
       "      <th>merch_long</th>\n",
       "      <th>is_fraud</th>\n",
       "    </tr>\n",
       "  </thead>\n",
       "  <tbody>\n",
       "    <tr>\n",
       "      <th>cc_num</th>\n",
       "      <td>1.000000</td>\n",
       "      <td>-0.003963</td>\n",
       "      <td>0.052588</td>\n",
       "      <td>-0.038133</td>\n",
       "      <td>-0.051962</td>\n",
       "      <td>-0.028030</td>\n",
       "      <td>-0.008089</td>\n",
       "      <td>-0.039288</td>\n",
       "      <td>-0.052076</td>\n",
       "      <td>0.015541</td>\n",
       "    </tr>\n",
       "    <tr>\n",
       "      <th>amt</th>\n",
       "      <td>-0.003963</td>\n",
       "      <td>1.000000</td>\n",
       "      <td>-0.015969</td>\n",
       "      <td>-0.021180</td>\n",
       "      <td>0.018693</td>\n",
       "      <td>0.005838</td>\n",
       "      <td>-0.010742</td>\n",
       "      <td>-0.020428</td>\n",
       "      <td>0.019483</td>\n",
       "      <td>0.230721</td>\n",
       "    </tr>\n",
       "    <tr>\n",
       "      <th>zip</th>\n",
       "      <td>0.052588</td>\n",
       "      <td>-0.015969</td>\n",
       "      <td>1.000000</td>\n",
       "      <td>-0.133386</td>\n",
       "      <td>-0.908784</td>\n",
       "      <td>0.048198</td>\n",
       "      <td>-0.005012</td>\n",
       "      <td>-0.133616</td>\n",
       "      <td>-0.907797</td>\n",
       "      <td>-0.002544</td>\n",
       "    </tr>\n",
       "    <tr>\n",
       "      <th>lat</th>\n",
       "      <td>-0.038133</td>\n",
       "      <td>-0.021180</td>\n",
       "      <td>-0.133386</td>\n",
       "      <td>1.000000</td>\n",
       "      <td>0.003528</td>\n",
       "      <td>-0.127709</td>\n",
       "      <td>0.000425</td>\n",
       "      <td>0.993519</td>\n",
       "      <td>0.004520</td>\n",
       "      <td>0.003988</td>\n",
       "    </tr>\n",
       "    <tr>\n",
       "      <th>long</th>\n",
       "      <td>-0.051962</td>\n",
       "      <td>0.018693</td>\n",
       "      <td>-0.908784</td>\n",
       "      <td>0.003528</td>\n",
       "      <td>1.000000</td>\n",
       "      <td>-0.027843</td>\n",
       "      <td>-0.000183</td>\n",
       "      <td>0.003820</td>\n",
       "      <td>0.999076</td>\n",
       "      <td>0.004558</td>\n",
       "    </tr>\n",
       "    <tr>\n",
       "      <th>city_pop</th>\n",
       "      <td>-0.028030</td>\n",
       "      <td>0.005838</td>\n",
       "      <td>0.048198</td>\n",
       "      <td>-0.127709</td>\n",
       "      <td>-0.027843</td>\n",
       "      <td>1.000000</td>\n",
       "      <td>-0.002182</td>\n",
       "      <td>-0.126755</td>\n",
       "      <td>-0.028480</td>\n",
       "      <td>-0.002292</td>\n",
       "    </tr>\n",
       "    <tr>\n",
       "      <th>unix_time</th>\n",
       "      <td>-0.008089</td>\n",
       "      <td>-0.010742</td>\n",
       "      <td>-0.005012</td>\n",
       "      <td>0.000425</td>\n",
       "      <td>-0.000183</td>\n",
       "      <td>-0.002182</td>\n",
       "      <td>1.000000</td>\n",
       "      <td>0.000778</td>\n",
       "      <td>-0.000433</td>\n",
       "      <td>-0.010212</td>\n",
       "    </tr>\n",
       "    <tr>\n",
       "      <th>merch_lat</th>\n",
       "      <td>-0.039288</td>\n",
       "      <td>-0.020428</td>\n",
       "      <td>-0.133616</td>\n",
       "      <td>0.993519</td>\n",
       "      <td>0.003820</td>\n",
       "      <td>-0.126755</td>\n",
       "      <td>0.000778</td>\n",
       "      <td>1.000000</td>\n",
       "      <td>0.004738</td>\n",
       "      <td>0.005364</td>\n",
       "    </tr>\n",
       "    <tr>\n",
       "      <th>merch_long</th>\n",
       "      <td>-0.052076</td>\n",
       "      <td>0.019483</td>\n",
       "      <td>-0.907797</td>\n",
       "      <td>0.004520</td>\n",
       "      <td>0.999076</td>\n",
       "      <td>-0.028480</td>\n",
       "      <td>-0.000433</td>\n",
       "      <td>0.004738</td>\n",
       "      <td>1.000000</td>\n",
       "      <td>0.005630</td>\n",
       "    </tr>\n",
       "    <tr>\n",
       "      <th>is_fraud</th>\n",
       "      <td>0.015541</td>\n",
       "      <td>0.230721</td>\n",
       "      <td>-0.002544</td>\n",
       "      <td>0.003988</td>\n",
       "      <td>0.004558</td>\n",
       "      <td>-0.002292</td>\n",
       "      <td>-0.010212</td>\n",
       "      <td>0.005364</td>\n",
       "      <td>0.005630</td>\n",
       "      <td>1.000000</td>\n",
       "    </tr>\n",
       "  </tbody>\n",
       "</table>\n",
       "</div>"
      ],
      "text/plain": [
       "              cc_num       amt       zip       lat      long  city_pop  \\\n",
       "cc_num      1.000000 -0.003963  0.052588 -0.038133 -0.051962 -0.028030   \n",
       "amt        -0.003963  1.000000 -0.015969 -0.021180  0.018693  0.005838   \n",
       "zip         0.052588 -0.015969  1.000000 -0.133386 -0.908784  0.048198   \n",
       "lat        -0.038133 -0.021180 -0.133386  1.000000  0.003528 -0.127709   \n",
       "long       -0.051962  0.018693 -0.908784  0.003528  1.000000 -0.027843   \n",
       "city_pop   -0.028030  0.005838  0.048198 -0.127709 -0.027843  1.000000   \n",
       "unix_time  -0.008089 -0.010742 -0.005012  0.000425 -0.000183 -0.002182   \n",
       "merch_lat  -0.039288 -0.020428 -0.133616  0.993519  0.003820 -0.126755   \n",
       "merch_long -0.052076  0.019483 -0.907797  0.004520  0.999076 -0.028480   \n",
       "is_fraud    0.015541  0.230721 -0.002544  0.003988  0.004558 -0.002292   \n",
       "\n",
       "            unix_time  merch_lat  merch_long  is_fraud  \n",
       "cc_num      -0.008089  -0.039288   -0.052076  0.015541  \n",
       "amt         -0.010742  -0.020428    0.019483  0.230721  \n",
       "zip         -0.005012  -0.133616   -0.907797 -0.002544  \n",
       "lat          0.000425   0.993519    0.004520  0.003988  \n",
       "long        -0.000183   0.003820    0.999076  0.004558  \n",
       "city_pop    -0.002182  -0.126755   -0.028480 -0.002292  \n",
       "unix_time    1.000000   0.000778   -0.000433 -0.010212  \n",
       "merch_lat    0.000778   1.000000    0.004738  0.005364  \n",
       "merch_long  -0.000433   0.004738    1.000000  0.005630  \n",
       "is_fraud    -0.010212   0.005364    0.005630  1.000000  "
      ]
     },
     "execution_count": 189,
     "metadata": {},
     "output_type": "execute_result"
    }
   ],
   "source": [
    "# correlation matrix with numeric values\n",
    "# features with strongest correlation: amt\n",
    "df.corr()"
   ]
  },
  {
   "cell_type": "code",
   "execution_count": 190,
   "id": "2ab525bf",
   "metadata": {},
   "outputs": [
    {
     "data": {
      "text/plain": [
       "<AxesSubplot:>"
      ]
     },
     "execution_count": 190,
     "metadata": {},
     "output_type": "execute_result"
    },
    {
     "data": {
      "image/png": "[encoded data removed]",
      "text/plain": [
       "<Figure size 432x288 with 2 Axes>"
      ]
     },
     "metadata": {
      "needs_background": "light"
     },
     "output_type": "display_data"
    }
   ],
   "source": [
    "# correlation matrix with heatmap\n",
    "corr = df.corr()\n",
    "sns.heatmap(corr, \n",
    "            xticklabels=corr.columns.values,\n",
    "            yticklabels=corr.columns.values)"
   ]
  },
  {
   "cell_type": "markdown",
   "id": "620c1a7b",
   "metadata": {},
   "source": [
    " # Training and Testing"
   ]
  },
  {
   "cell_type": "code",
   "execution_count": 206,
   "id": "c44b20d3",
   "metadata": {},
   "outputs": [
    {
     "name": "stdout",
     "output_type": "stream",
     "text": [
      "Original date and time object: 2022-02-21 19:12:01.076775\n"
     ]
    }
   ],
   "source": [
    "# CONVERTING DATETIME STRING TO DATETIME\n",
    "\n",
    "current_date = datetime.datetime.now()\n",
    "\n",
    "print(\"Original date and time object:\", current_date)\n",
    "\n",
    "\n",
    "sample_df['trans_date_trans_time'] = int(current_date.strftime(\"%Y%m%d%H%M%S\"))"
   ]
  },
  {
   "cell_type": "code",
   "execution_count": 207,
   "id": "38d5c81d",
   "metadata": {},
   "outputs": [],
   "source": [
    "sample_df['dob']= pd.to_datetime(sample_df['dob'], format='%Y-%m-%d')"
   ]
  },
  {
   "cell_type": "code",
   "execution_count": 208,
   "id": "9bc46e09",
   "metadata": {},
   "outputs": [
    {
     "name": "stdout",
     "output_type": "stream",
     "text": [
      "<class 'pandas.core.frame.DataFrame'>\n",
      "Int64Index: 10000 entries, 1179553 to 794190\n",
      "Data columns (total 22 columns):\n",
      " #   Column                 Non-Null Count  Dtype         \n",
      "---  ------                 --------------  -----         \n",
      " 0   trans_date_trans_time  10000 non-null  int64         \n",
      " 1   cc_num                 10000 non-null  int64         \n",
      " 2   merchant               10000 non-null  object        \n",
      " 3   category               10000 non-null  object        \n",
      " 4   amt                    10000 non-null  float64       \n",
      " 5   first                  10000 non-null  object        \n",
      " 6   last                   10000 non-null  object        \n",
      " 7   gender                 10000 non-null  object        \n",
      " 8   street                 10000 non-null  object        \n",
      " 9   city                   10000 non-null  object        \n",
      " 10  state                  10000 non-null  object        \n",
      " 11  zip                    10000 non-null  int64         \n",
      " 12  lat                    10000 non-null  float64       \n",
      " 13  long                   10000 non-null  float64       \n",
      " 14  city_pop               10000 non-null  int64         \n",
      " 15  job                    10000 non-null  object        \n",
      " 16  dob                    10000 non-null  datetime64[ns]\n",
      " 17  trans_num              10000 non-null  object        \n",
      " 18  unix_time              10000 non-null  int64         \n",
      " 19  merch_lat              10000 non-null  float64       \n",
      " 20  merch_long             10000 non-null  float64       \n",
      " 21  is_fraud               10000 non-null  int64         \n",
      "dtypes: datetime64[ns](1), float64(5), int64(6), object(10)\n",
      "memory usage: 1.8+ MB\n"
     ]
    }
   ],
   "source": [
    "sample_df.info()"
   ]
  },
  {
   "cell_type": "code",
   "execution_count": 209,
   "id": "70809d59",
   "metadata": {},
   "outputs": [],
   "source": [
    "# splitting features into X and target into y\n",
    "X = sample_df[['trans_date_trans_time', 'cc_num', 'amt', 'zip', 'lat', 'long', 'city_pop', 'unix_time', 'merch_lat', 'merch_long']]\n",
    "y = sample_df['is_fraud']\n",
    "X_train, X_test, y_train, y_test = train_test_split(X, y, test_size=.2, random_state=42)\n"
   ]
  },
  {
   "cell_type": "code",
   "execution_count": 210,
   "id": "0f40437d",
   "metadata": {},
   "outputs": [],
   "source": [
    "# Feature Scaling\n",
    "from sklearn.preprocessing import StandardScaler\n",
    "sc=StandardScaler()\n",
    "X=sc.fit_transform(X)"
   ]
  },
  {
   "cell_type": "markdown",
   "id": "f60bbbb5",
   "metadata": {},
   "source": [
    "# Logistic Regression CV"
   ]
  },
  {
   "cell_type": "code",
   "execution_count": 211,
   "id": "7382fde0",
   "metadata": {},
   "outputs": [],
   "source": [
    "from sklearn.linear_model import LogisticRegressionCV\n",
    "clf = LogisticRegressionCV(cv=10, random_state=42,class_weight='balanced',max_iter=1000).fit(X_train, y_train)"
   ]
  },
  {
   "cell_type": "code",
   "execution_count": 212,
   "id": "44011bcc",
   "metadata": {},
   "outputs": [],
   "source": [
    "predictions1=clf.predict(X_test)"
   ]
  },
  {
   "cell_type": "code",
   "execution_count": 213,
   "id": "462ce762",
   "metadata": {},
   "outputs": [
    {
     "name": "stdout",
     "output_type": "stream",
     "text": [
      "              precision    recall  f1-score   support\n",
      "\n",
      "           0       1.00      0.91      0.95      1994\n",
      "           1       0.00      0.00      0.00         6\n",
      "\n",
      "    accuracy                           0.91      2000\n",
      "   macro avg       0.50      0.46      0.48      2000\n",
      "weighted avg       0.99      0.91      0.95      2000\n",
      "\n"
     ]
    }
   ],
   "source": [
    "from sklearn.metrics import classification_report\n",
    "print(classification_report(y_test,predictions1))"
   ]
  },
  {
   "cell_type": "code",
   "execution_count": 216,
   "id": "535ad072",
   "metadata": {},
   "outputs": [
    {
     "name": "stdout",
     "output_type": "stream",
     "text": [
      "Average precision-recall score: 0.00\n",
      "Average ROC_AUC score: 0.54\n"
     ]
    }
   ],
   "source": [
    "y_score = clf.decision_function(X_test)\n",
    "from sklearn.metrics import average_precision_score\n",
    "average_precision = average_precision_score(y_test, y_score)\n",
    "\n",
    "print('Average precision-recall score: {0:0.2f}'.format(\n",
    "      average_precision))\n",
    "from sklearn.metrics import roc_auc_score\n",
    "y_pred_prob = clf.predict_proba(X_test)\n",
    "print('Average ROC_AUC score: {0:0.2f}'.format(roc_auc_score(y_test, y_pred_prob[:,1])))"
   ]
  },
  {
   "cell_type": "code",
   "execution_count": 220,
   "id": "ff64e6c9",
   "metadata": {},
   "outputs": [
    {
     "name": "stdout",
     "output_type": "stream",
     "text": [
      "Collecting mlxtend\n",
      "  Downloading mlxtend-0.19.0-py2.py3-none-any.whl (1.3 MB)\n",
      "Requirement already satisfied: scikit-learn>=0.20.3 in c:\\users\\new user\\anaconda3\\lib\\site-packages (from mlxtend) (1.0.1)\n",
      "Requirement already satisfied: matplotlib>=3.0.0 in c:\\users\\new user\\anaconda3\\lib\\site-packages (from mlxtend) (3.5.0)\n",
      "Requirement already satisfied: numpy>=1.16.2 in c:\\users\\new user\\anaconda3\\lib\\site-packages (from mlxtend) (1.20.3)\n",
      "Requirement already satisfied: scipy>=1.2.1 in c:\\users\\new user\\anaconda3\\lib\\site-packages (from mlxtend) (1.7.1)\n",
      "Requirement already satisfied: pandas>=0.24.2 in c:\\users\\new user\\anaconda3\\lib\\site-packages (from mlxtend) (1.3.4)\n",
      "Requirement already satisfied: joblib>=0.13.2 in c:\\users\\new user\\anaconda3\\lib\\site-packages (from mlxtend) (1.1.0)\n",
      "Requirement already satisfied: setuptools in c:\\users\\new user\\anaconda3\\lib\\site-packages (from mlxtend) (58.0.4)\n",
      "Requirement already satisfied: kiwisolver>=1.0.1 in c:\\users\\new user\\anaconda3\\lib\\site-packages (from matplotlib>=3.0.0->mlxtend) (1.3.1)\n",
      "Requirement already satisfied: python-dateutil>=2.7 in c:\\users\\new user\\anaconda3\\lib\\site-packages (from matplotlib>=3.0.0->mlxtend) (2.8.2)\n",
      "Requirement already satisfied: fonttools>=4.22.0 in c:\\users\\new user\\anaconda3\\lib\\site-packages (from matplotlib>=3.0.0->mlxtend) (4.25.0)\n",
      "Requirement already satisfied: pillow>=6.2.0 in c:\\users\\new user\\anaconda3\\lib\\site-packages (from matplotlib>=3.0.0->mlxtend) (8.4.0)\n",
      "Requirement already satisfied: cycler>=0.10 in c:\\users\\new user\\anaconda3\\lib\\site-packages (from matplotlib>=3.0.0->mlxtend) (0.11.0)\n",
      "Requirement already satisfied: pyparsing>=2.2.1 in c:\\users\\new user\\anaconda3\\lib\\site-packages (from matplotlib>=3.0.0->mlxtend) (3.0.4)\n",
      "Requirement already satisfied: packaging>=20.0 in c:\\users\\new user\\anaconda3\\lib\\site-packages (from matplotlib>=3.0.0->mlxtend) (21.3)\n",
      "Requirement already satisfied: pytz>=2017.3 in c:\\users\\new user\\anaconda3\\lib\\site-packages (from pandas>=0.24.2->mlxtend) (2021.3)\n",
      "Requirement already satisfied: six>=1.5 in c:\\users\\new user\\anaconda3\\lib\\site-packages (from python-dateutil>=2.7->matplotlib>=3.0.0->mlxtend) (1.16.0)\n",
      "Requirement already satisfied: threadpoolctl>=2.0.0 in c:\\users\\new user\\anaconda3\\lib\\site-packages (from scikit-learn>=0.20.3->mlxtend) (2.2.0)\n",
      "Installing collected packages: mlxtend\n",
      "Successfully installed mlxtend-0.19.0\n",
      "Note: you may need to restart the kernel to use updated packages.\n"
     ]
    }
   ],
   "source": [
    "pip install mlxtend"
   ]
  },
  {
   "cell_type": "code",
   "execution_count": 222,
   "id": "96b46e2c",
   "metadata": {},
   "outputs": [
    {
     "name": "stdout",
     "output_type": "stream",
     "text": [
      "Confusion Matrix:  [[1823  171]\n",
      " [   6    0]]\n"
     ]
    },
    {
     "data": {
      "image/png": "[encoded data removed]",
      "text/plain": [
       "<Figure size 360x360 with 1 Axes>"
      ]
     },
     "metadata": {
      "needs_background": "light"
     },
     "output_type": "display_data"
    },
    {
     "data": {
      "text/plain": [
       "<Figure size 432x288 with 0 Axes>"
      ]
     },
     "metadata": {},
     "output_type": "display_data"
    }
   ],
   "source": [
    "import matplotlib.pyplot as plt\n",
    "from sklearn.metrics import confusion_matrix\n",
    "CM = confusion_matrix(y_test, predictions1)\n",
    "print('Confusion Matrix: ',CM)\n",
    "from mlxtend.plotting import plot_confusion_matrix\n",
    "fig, ax = plot_confusion_matrix(conf_mat=CM ,  figsize=(5, 5))\n",
    "plt.show()\n",
    "plt.savefig('C:/Users/New User/Desktop/Fraud/confusion_matrix.png')"
   ]
  },
  {
   "cell_type": "code",
   "execution_count": 218,
   "id": "3c7677bd",
   "metadata": {},
   "outputs": [
    {
     "data": {
      "image/png": "[encoded data removed]",
      "text/plain": [
       "<Figure size 432x288 with 1 Axes>"
      ]
     },
     "metadata": {
      "needs_background": "light"
     },
     "output_type": "display_data"
    }
   ],
   "source": [
    "from sklearn.metrics import precision_recall_curve\n",
    "import matplotlib.pyplot as plt\n",
    "from inspect import signature\n",
    "\n",
    "precision, recall, _ = precision_recall_curve(y_test, y_score)\n",
    "\n",
    "# In matplotlib < 1.5, plt.fill_between does not have a 'step' argument\n",
    "step_kwargs = ({'step': 'post'}\n",
    "               if 'step' in signature(plt.fill_between).parameters\n",
    "               else {})\n",
    "plt.step(recall, precision, color='b', alpha=0.2,\n",
    "         where='post')\n",
    "plt.fill_between(recall, precision, alpha=0.2, color='b', **step_kwargs)\n",
    "\n",
    "plt.xlabel('Recall')\n",
    "plt.ylabel('Precision')\n",
    "plt.ylim([0.0, 1.05])\n",
    "plt.xlim([0.0, 1.0])\n",
    "plt.title('2-class Precision-Recall curve: AP={0:0.2f}'.format(\n",
    "          average_precision))\n",
    "plt.savefig('C:/Users/New User/Desktop/Fraud/precision-recall-curve.png')"
   ]
  },
  {
   "cell_type": "code",
   "execution_count": 171,
   "id": "112424f7",
   "metadata": {},
   "outputs": [],
   "source": [
    "# def curves():\n",
    "        \n",
    "#     plt.clf()\n",
    "#     plt.cla()\n",
    "#     plt.close()\n",
    "    \n",
    "#     lr = LogisticRegression().fit(X_train, y_train)\n",
    "#     y_score = lr.decision_function(X_test)\n",
    "#     precision, recall, thresholds = precision_recall_curve(y_test, y_score)\n",
    "#     plt.figure(figsize=(10,10))\n",
    "#     plt.xlim([0.0, 1.01])\n",
    "#     plt.ylim([0.0, 1.01])\n",
    "#     plt.plot(precision, recall, label='Precision-Recall Curve')\n",
    "#     plt.xlabel('Precision', labelpad=15, fontsize = 12)\n",
    "#     plt.ylabel('Recall', labelpad=10, fontsize = 12)\n",
    "#     plt.title('Credit card fraud data analysis\\nPrecision-Recall Curve\\n', fontsize = 18, fontname = 'Comic Sans MS', fontweight = 'bold', alpha=1)\n",
    "#     plt.axes().set_aspect('equal')\n",
    "#     pylab.savefig('C:/Users/New User/Desktop/Fraud/precision_recall.png')\n",
    "#     plt.show()\n",
    "#     prec_rec = pd.DataFrame({'precision': precision, 'recall': recall})\n",
    "#     rcl = prec_rec['recall'][prec_rec.precision >= .079]\n",
    "#     #print('recall = ', rcl.iloc[0:10])\n",
    "    \n",
    "#     fpr, tpr, _ = roc_curve(y_test, y_score)\n",
    "#     roc_auc = auc(fpr, tpr)\n",
    "#     plt.figure(figsize=(10,10))\n",
    "#     plt.xlim([-0.01, 1.00])\n",
    "#     plt.ylim([-0.01, 1.01])\n",
    "#     plt.plot(fpr, tpr, lw=3, label='LogRegr ROC curve (area = {:0.2f})'.format(roc_auc))\n",
    "#     plt.xlabel('False Positive Rate', labelpad=15, fontsize = 12)\n",
    "#     plt.ylabel('True Positive Rate', labelpad=10, fontsize = 12)\n",
    "#     plt.title('Credit card fraud data analysis\\nROC curve\\n', fontsize = 18, fontname = 'Comic Sans MS', fontweight = 'bold', alpha=1)\n",
    "#     plt.legend(loc='lower right', fontsize=12)\n",
    "#     plt.plot([0, 1], [0, 1], color='navy', lw=3, linestyle='--')\n",
    "#     plt.axes().set_aspect('equal')\n",
    "#     pylab.savefig('C:/Users/New User/Desktop/Fraud/roc.png')\n",
    "#     plt.show()\n",
    "#     roc = pd.DataFrame({'tpr': tpr, 'fpr': fpr})\n",
    "#     tr_pos_r = roc['tpr'][roc.fpr >= 0.16]\n",
    "#     #print('tpr = ', tr_pos_r.iloc[0:10])\n",
    "        \n",
    "#     return (rcl.iloc[0], tr_pos_r.iloc[0])"
   ]
  },
  {
   "cell_type": "code",
   "execution_count": 83,
   "id": "74468b64",
   "metadata": {},
   "outputs": [],
   "source": [
    "# target vs feature pairplotting - HELP\n",
    "# sns.pairplot(sample_df, hue='is_fraud');"
   ]
  },
  {
   "cell_type": "code",
   "execution_count": 84,
   "id": "0d6f23fb",
   "metadata": {},
   "outputs": [],
   "source": [
    "# target vs feature boxplot - HELP"
   ]
  },
  {
   "cell_type": "code",
   "execution_count": null,
   "id": "fd26f9fb",
   "metadata": {},
   "outputs": [],
   "source": [
    "# LOGISTIC REGRESSION USING ACCURACY AS METRIC"
   ]
  },
  {
   "cell_type": "code",
   "execution_count": 105,
   "id": "b935c04e",
   "metadata": {},
   "outputs": [
    {
     "data": {
      "text/plain": [
       "0.995"
      ]
     },
     "execution_count": 105,
     "metadata": {},
     "output_type": "execute_result"
    }
   ],
   "source": [
    "lm1 = LogisticRegression(C=1000) # setting C very high essentially removes regularization\n",
    "lm1.fit(X_train[['amt']], y_train)\n",
    "lm1.score(X_train[['amt']], y_train)"
   ]
  },
  {
   "cell_type": "code",
   "execution_count": 87,
   "id": "ea342687",
   "metadata": {},
   "outputs": [],
   "source": [
    "# DECISION BOUNDARY"
   ]
  },
  {
   "cell_type": "code",
   "execution_count": 106,
   "id": "f56e5b48",
   "metadata": {},
   "outputs": [
    {
     "data": {
      "text/html": [
       "<div>\n",
       "<style scoped>\n",
       "    .dataframe tbody tr th:only-of-type {\n",
       "        vertical-align: middle;\n",
       "    }\n",
       "\n",
       "    .dataframe tbody tr th {\n",
       "        vertical-align: top;\n",
       "    }\n",
       "\n",
       "    .dataframe thead th {\n",
       "        text-align: right;\n",
       "    }\n",
       "</style>\n",
       "<table border=\"1\" class=\"dataframe\">\n",
       "  <thead>\n",
       "    <tr style=\"text-align: right;\">\n",
       "      <th></th>\n",
       "      <th>trans_date_trans_time</th>\n",
       "      <th>cc_num</th>\n",
       "      <th>amt</th>\n",
       "      <th>zip</th>\n",
       "      <th>lat</th>\n",
       "      <th>long</th>\n",
       "      <th>city_pop</th>\n",
       "      <th>unix_time</th>\n",
       "      <th>merch_lat</th>\n",
       "      <th>merch_long</th>\n",
       "      <th>is_fraud</th>\n",
       "    </tr>\n",
       "  </thead>\n",
       "  <tbody>\n",
       "    <tr>\n",
       "      <th>1284906</th>\n",
       "      <td>20220221170021</td>\n",
       "      <td>4198470814557</td>\n",
       "      <td>3.85</td>\n",
       "      <td>51521</td>\n",
       "      <td>41.4768</td>\n",
       "      <td>-95.3509</td>\n",
       "      <td>2036</td>\n",
       "      <td>1371392415</td>\n",
       "      <td>42.390806</td>\n",
       "      <td>-94.790320</td>\n",
       "      <td>0</td>\n",
       "    </tr>\n",
       "    <tr>\n",
       "      <th>12158</th>\n",
       "      <td>20220221170021</td>\n",
       "      <td>3591919803438423</td>\n",
       "      <td>77.20</td>\n",
       "      <td>32780</td>\n",
       "      <td>28.5697</td>\n",
       "      <td>-80.8191</td>\n",
       "      <td>54767</td>\n",
       "      <td>1325983230</td>\n",
       "      <td>29.375366</td>\n",
       "      <td>-80.586918</td>\n",
       "      <td>0</td>\n",
       "    </tr>\n",
       "    <tr>\n",
       "      <th>75506</th>\n",
       "      <td>20220221170021</td>\n",
       "      <td>3504178999463051</td>\n",
       "      <td>55.53</td>\n",
       "      <td>45801</td>\n",
       "      <td>40.7641</td>\n",
       "      <td>-84.0973</td>\n",
       "      <td>86954</td>\n",
       "      <td>1329180476</td>\n",
       "      <td>40.873303</td>\n",
       "      <td>-84.159708</td>\n",
       "      <td>0</td>\n",
       "    </tr>\n",
       "    <tr>\n",
       "      <th>149939</th>\n",
       "      <td>20220221170021</td>\n",
       "      <td>4010002218955876</td>\n",
       "      <td>226.05</td>\n",
       "      <td>77026</td>\n",
       "      <td>29.7972</td>\n",
       "      <td>-95.3288</td>\n",
       "      <td>2906700</td>\n",
       "      <td>1332385610</td>\n",
       "      <td>29.797038</td>\n",
       "      <td>-94.724374</td>\n",
       "      <td>0</td>\n",
       "    </tr>\n",
       "    <tr>\n",
       "      <th>219128</th>\n",
       "      <td>20220221170021</td>\n",
       "      <td>4997733566924489</td>\n",
       "      <td>103.03</td>\n",
       "      <td>55128</td>\n",
       "      <td>44.9913</td>\n",
       "      <td>-92.9487</td>\n",
       "      <td>753116</td>\n",
       "      <td>1335013993</td>\n",
       "      <td>44.330079</td>\n",
       "      <td>-92.388316</td>\n",
       "      <td>0</td>\n",
       "    </tr>\n",
       "  </tbody>\n",
       "</table>\n",
       "</div>"
      ],
      "text/plain": [
       "         trans_date_trans_time            cc_num     amt    zip      lat  \\\n",
       "1284906         20220221170021     4198470814557    3.85  51521  41.4768   \n",
       "12158           20220221170021  3591919803438423   77.20  32780  28.5697   \n",
       "75506           20220221170021  3504178999463051   55.53  45801  40.7641   \n",
       "149939          20220221170021  4010002218955876  226.05  77026  29.7972   \n",
       "219128          20220221170021  4997733566924489  103.03  55128  44.9913   \n",
       "\n",
       "            long  city_pop   unix_time  merch_lat  merch_long  is_fraud  \n",
       "1284906 -95.3509      2036  1371392415  42.390806  -94.790320         0  \n",
       "12158   -80.8191     54767  1325983230  29.375366  -80.586918         0  \n",
       "75506   -84.0973     86954  1329180476  40.873303  -84.159708         0  \n",
       "149939  -95.3288   2906700  1332385610  29.797038  -94.724374         0  \n",
       "219128  -92.9487    753116  1335013993  44.330079  -92.388316         0  "
      ]
     },
     "execution_count": 106,
     "metadata": {},
     "output_type": "execute_result"
    }
   ],
   "source": [
    "# creating train_df\n",
    "train_df = X_train.copy()\n",
    "train_df['is_fraud'] = y_train\n",
    "train_df.head()"
   ]
  },
  {
   "cell_type": "code",
   "execution_count": 117,
   "id": "1da0175f",
   "metadata": {},
   "outputs": [
    {
     "data": {
      "image/png": "[encoded data removed]",
      "text/plain": [
       "<Figure size 432x288 with 1 Axes>"
      ]
     },
     "metadata": {
      "needs_background": "light"
     },
     "output_type": "display_data"
    }
   ],
   "source": [
    "def viz_SF_LR(sample_df, model, hard_classification=True, decision_boundary=False):\n",
    "\n",
    "    # extract amt feature and hard or soft predictions\n",
    "    feature = df[['amt']]\n",
    "    if hard_classification:\n",
    "        predictions = model.predict(feature)\n",
    "    else:\n",
    "        predictions = model.predict_proba(feature)[:, 1] \n",
    "\n",
    "    # color filter true class labels and plot predictions\n",
    "    sf_mask = (df['is_fraud'] == 1).values\n",
    "    plt.plot(feature[sf_mask], predictions[sf_mask], 'bo', label='Fraud', alpha=0.2)\n",
    "    plt.plot(feature[~sf_mask], predictions[~sf_mask], 'ro', label='Valid', alpha=0.2)\n",
    "    \n",
    "    # optionally calculate and display decision boundary as dotted line\n",
    "    if decision_boundary:\n",
    "        b_0, b_1 = model.intercept_, model.coef_[0]\n",
    "        plt.gca().axvline(-b_0/b_1,c='k',ls='--',lw=1)\n",
    "    \n",
    "    # plot formatting\n",
    "    plt.ylim(-0.05, 1.05)\n",
    "    plt.xlabel('Amount ($)')\n",
    "    plt.ylabel('Prediction (1=Fraud)')\n",
    "    type_str = 'hard' if hard_classification else 'soft'\n",
    "    plt.title('Logistic regression ' + type_str + ' prediction for Fraud vs Valid')\n",
    "    plt.legend(loc='lower right')\n",
    "    \n",
    "viz_SF_LR(train_df, lm1, decision_boundary=True)"
   ]
  },
  {
   "cell_type": "markdown",
   "id": "58073004",
   "metadata": {},
   "source": [
    "# Classification Evaluation Metrics"
   ]
  },
  {
   "cell_type": "code",
   "execution_count": 113,
   "id": "3e328f0d",
   "metadata": {},
   "outputs": [],
   "source": [
    "def accuracy(actuals, preds):\n",
    "    return (np.mean(actuals == preds))\n",
    "\n",
    "def precision(actuals, preds):\n",
    "    tp = np.sum((actuals == 1) & (preds == 1))\n",
    "    fp = np.sum((actuals == 0) & (preds == 1))\n",
    "    return (tp / (tp + fp))\n",
    "\n",
    "def recall(actuals, preds):\n",
    "    tp = np.sum((actuals == 1) & (preds == 1))\n",
    "    fn = np.sum((actuals == 1) & (preds == 0))\n",
    "    return (tp / (tp + fn))\n",
    "\n",
    "def F1(actuals, preds):\n",
    "    p, r = precision(actuals, preds), recall(actuals, preds)\n",
    "    return (2*p*r / (p + r))"
   ]
  },
  {
   "cell_type": "code",
   "execution_count": 114,
   "id": "ed1e5444",
   "metadata": {},
   "outputs": [
    {
     "name": "stderr",
     "output_type": "stream",
     "text": [
      "C:\\Users\\New User\\anaconda3\\lib\\site-packages\\sklearn\\linear_model\\_logistic.py:814: ConvergenceWarning: lbfgs failed to converge (status=2):\n",
      "ABNORMAL_TERMINATION_IN_LNSRCH.\n",
      "\n",
      "Increase the number of iterations (max_iter) or scale the data as shown in:\n",
      "    https://scikit-learn.org/stable/modules/preprocessing.html\n",
      "Please also refer to the documentation for alternative solver options:\n",
      "    https://scikit-learn.org/stable/modules/linear_model.html#logistic-regression\n",
      "  n_iter_i = _check_optimize_result(\n"
     ]
    },
    {
     "data": {
      "text/plain": [
       "KNeighborsClassifier(n_neighbors=10)"
      ]
     },
     "execution_count": 114,
     "metadata": {},
     "output_type": "execute_result"
    }
   ],
   "source": [
    "from sklearn.linear_model import LogisticRegression\n",
    "from sklearn.neighbors import KNeighborsClassifier\n",
    "\n",
    "lr = LogisticRegression(C = 1000) #large C means no regularization, confusing! (inverse regularization strength)\n",
    "knn = KNeighborsClassifier(n_neighbors = 10)\n",
    "\n",
    "lr.fit(X_train, y_train)\n",
    "knn.fit(X_train, y_train)"
   ]
  },
  {
   "cell_type": "markdown",
   "id": "db96fc4f",
   "metadata": {},
   "source": [
    "# Score models on test set"
   ]
  },
  {
   "cell_type": "code",
   "execution_count": 115,
   "id": "9e422ec0",
   "metadata": {},
   "outputs": [
    {
     "name": "stderr",
     "output_type": "stream",
     "text": [
      "C:\\Users\\NEWUSE~1\\AppData\\Local\\Temp/ipykernel_20848/1525214215.py:7: RuntimeWarning: invalid value encountered in longlong_scalars\n",
      "  return (tp / (tp + fp))\n",
      "C:\\Users\\NEWUSE~1\\AppData\\Local\\Temp/ipykernel_20848/1525214215.py:7: RuntimeWarning: invalid value encountered in longlong_scalars\n",
      "  return (tp / (tp + fp))\n",
      "C:\\Users\\NEWUSE~1\\AppData\\Local\\Temp/ipykernel_20848/1525214215.py:7: RuntimeWarning: invalid value encountered in longlong_scalars\n",
      "  return (tp / (tp + fp))\n"
     ]
    },
    {
     "name": "stdout",
     "output_type": "stream",
     "text": [
      "Logistic regression validation metrics: \n",
      " Accuracy: 0.9955 \n",
      " Precision: nan \n",
      " Recall: 0.0000 \n",
      " F1: nan\n",
      "\n",
      "\n",
      "10 nearest neighbors validation metrics: \n",
      " Accuracy: 0.9955 \n",
      " Precision: nan \n",
      " Recall: 0.0000 \n",
      " F1: nan\n"
     ]
    },
    {
     "name": "stderr",
     "output_type": "stream",
     "text": [
      "C:\\Users\\NEWUSE~1\\AppData\\Local\\Temp/ipykernel_20848/1525214215.py:7: RuntimeWarning: invalid value encountered in longlong_scalars\n",
      "  return (tp / (tp + fp))\n"
     ]
    }
   ],
   "source": [
    "print('Logistic regression validation metrics: \\n Accuracy: %.4f \\n Precision: %.4f \\n Recall: %.4f \\n F1: %.4f' %\n",
    "        (accuracy(y_test, lr.predict(X_test)), \n",
    "         precision(y_test, lr.predict(X_test)), \n",
    "         recall(y_test, lr.predict(X_test)),\n",
    "         F1(y_test, lr.predict(X_test))\n",
    "        )\n",
    "     )\n",
    "\n",
    "print('\\n')\n",
    "\n",
    "print('10 nearest neighbors validation metrics: \\n Accuracy: %.4f \\n Precision: %.4f \\n Recall: %.4f \\n F1: %.4f' %\n",
    "        (accuracy(y_test, knn.predict(X_test)), \n",
    "         precision(y_test, knn.predict(X_test)), \n",
    "         recall(y_test, knn.predict(X_test)),\n",
    "         F1(y_test, knn.predict(X_test))\n",
    "        )\n",
    "     )"
   ]
  },
  {
   "cell_type": "code",
   "execution_count": null,
   "id": "d57a2599",
   "metadata": {},
   "outputs": [],
   "source": []
  }
 ],
 "metadata": {
  "kernelspec": {
   "display_name": "Python 3 (ipykernel)",
   "language": "python",
   "name": "python3"
  },
  "language_info": {
   "codemirror_mode": {
    "name": "ipython",
    "version": 3
   },
   "file_extension": ".py",
   "mimetype": "text/x-python",
   "name": "python",
   "nbconvert_exporter": "python",
   "pygments_lexer": "ipython3",
   "version": "3.8.8"
  }
 },
 "nbformat": 4,
 "nbformat_minor": 5
}
